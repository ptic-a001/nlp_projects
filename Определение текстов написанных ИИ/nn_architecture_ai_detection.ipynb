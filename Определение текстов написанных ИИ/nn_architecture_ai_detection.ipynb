{
 "cells": [
  {
   "cell_type": "code",
   "execution_count": 2,
   "metadata": {
    "execution": {
     "iopub.execute_input": "2024-02-20T06:27:28.440404Z",
     "iopub.status.busy": "2024-02-20T06:27:28.439773Z",
     "iopub.status.idle": "2024-02-20T06:27:36.801139Z",
     "shell.execute_reply": "2024-02-20T06:27:36.800206Z",
     "shell.execute_reply.started": "2024-02-20T06:27:28.440375Z"
    }
   },
   "outputs": [
    {
     "data": {
      "text/plain": [
       "device(type='cuda')"
      ]
     },
     "execution_count": 2,
     "metadata": {},
     "output_type": "execute_result"
    }
   ],
   "source": [
    "import collections\n",
    "import os\n",
    "import re\n",
    "import subprocess\n",
    "\n",
    "import numpy as np\n",
    "import pandas as pd\n",
    "import matplotlib.pyplot as plt\n",
    "import seaborn as sns\n",
    "\n",
    "import torch\n",
    "from torch import nn\n",
    "from torch.optim import AdamW\n",
    "from torch.utils.data import DataLoader\n",
    "\n",
    "from tqdm.auto import tqdm\n",
    "\n",
    "from transformers import AutoTokenizer, AutoModelForSequenceClassification\n",
    "from transformers import get_polynomial_decay_schedule_with_warmup\n",
    "\n",
    "from peft import get_peft_model, LoraConfig, TaskType\n",
    "\n",
    "from torchmetrics.functional import accuracy\n",
    "\n",
    "from IPython.display import clear_output\n",
    "\n",
    "# Конфигурация\n",
    "sns.set_style('darkgrid')\n",
    "os.environ['TOKENIZERS_PARALLELISM'] = 'false'\n",
    "\n",
    "\n",
    "\n",
    "device = torch.device('cuda' if torch.cuda.is_available() else 'cpu')\n",
    "device"
   ]
  },
  {
   "cell_type": "code",
   "execution_count": 4,
   "metadata": {
    "execution": {
     "iopub.execute_input": "2024-02-20T06:27:36.810500Z",
     "iopub.status.busy": "2024-02-20T06:27:36.810244Z",
     "iopub.status.idle": "2024-02-20T06:27:39.395055Z",
     "shell.execute_reply": "2024-02-20T06:27:39.394194Z",
     "shell.execute_reply.started": "2024-02-20T06:27:36.810467Z"
    }
   },
   "outputs": [],
   "source": [
    "df_train = pd.read_csv('/kaggle/input/newnew-pt1c4/df1_train.csv')\n",
    "df_test = pd.read_csv('/kaggle/input/newnew-pt1c4/df1_test.csv')\n",
    "\n"
   ]
  },
  {
   "cell_type": "code",
   "execution_count": 5,
   "metadata": {
    "execution": {
     "iopub.execute_input": "2024-02-20T06:27:39.397482Z",
     "iopub.status.busy": "2024-02-20T06:27:39.397170Z",
     "iopub.status.idle": "2024-02-20T06:27:39.404580Z",
     "shell.execute_reply": "2024-02-20T06:27:39.403591Z",
     "shell.execute_reply.started": "2024-02-20T06:27:39.397459Z"
    }
   },
   "outputs": [
    {
     "data": {
      "text/plain": [
       "Index(['lemmatized_text', 'Class'], dtype='object')"
      ]
     },
     "execution_count": 5,
     "metadata": {},
     "output_type": "execute_result"
    }
   ],
   "source": [
    "df_train.columns = ['lemmatized_text', 'Class']\n",
    "df_test.columns = ['lemmatized_text', 'Class']\n",
    "df_train.columns"
   ]
  },
  {
   "cell_type": "code",
   "execution_count": 6,
   "metadata": {
    "execution": {
     "iopub.execute_input": "2024-02-20T06:27:39.406226Z",
     "iopub.status.busy": "2024-02-20T06:27:39.405899Z",
     "iopub.status.idle": "2024-02-20T06:27:39.416687Z",
     "shell.execute_reply": "2024-02-20T06:27:39.415821Z",
     "shell.execute_reply.started": "2024-02-20T06:27:39.406196Z"
    }
   },
   "outputs": [
    {
     "data": {
      "text/plain": [
       "'ыыыыыыыыыыыы\\n\\nЛондон хочет, чтобы Москва выдала подозреваемых по делу Скрипалей, заявил британский премьер.В не лемматизированном тексте 94 символа . В не лемматизированном тексте 11 уникальных слов . Самая распрастраненная часть речи PROPN . В изначальном тексте 2 стоп слов . В изначальном тексте 13 уникальных слов . '"
      ]
     },
     "execution_count": 6,
     "metadata": {},
     "output_type": "execute_result"
    }
   ],
   "source": [
    "df_train['lemmatized_text'][1]"
   ]
  },
  {
   "cell_type": "code",
   "execution_count": 7,
   "metadata": {
    "execution": {
     "iopub.execute_input": "2024-02-20T06:27:39.418120Z",
     "iopub.status.busy": "2024-02-20T06:27:39.417840Z",
     "iopub.status.idle": "2024-02-20T06:27:39.425408Z",
     "shell.execute_reply": "2024-02-20T06:27:39.424563Z",
     "shell.execute_reply.started": "2024-02-20T06:27:39.418075Z"
    }
   },
   "outputs": [],
   "source": [
    "def remove_punctuation(text):\n",
    "    \"\"\"custom function to remove the punctuation\"\"\"\n",
    "    PUNCT_TO_REMOVE = '&*+/<=>^_`{|}~'\n",
    "    return text.translate(str.maketrans('', '', PUNCT_TO_REMOVE))\n",
    "\n",
    "def remove_multiple_spaces(text):\n",
    "    result = re.sub(' +', ' ', text)\n",
    "    return result\n",
    "\n"
   ]
  },
  {
   "cell_type": "code",
   "execution_count": 8,
   "metadata": {
    "execution": {
     "iopub.execute_input": "2024-02-20T06:27:39.427662Z",
     "iopub.status.busy": "2024-02-20T06:27:39.427349Z",
     "iopub.status.idle": "2024-02-20T06:27:48.068707Z",
     "shell.execute_reply": "2024-02-20T06:27:48.067926Z",
     "shell.execute_reply.started": "2024-02-20T06:27:39.427639Z"
    }
   },
   "outputs": [],
   "source": [
    "df_train['lemmatized_text'] = df_train['lemmatized_text'].apply(lambda text: remove_punctuation(text))\n",
    "df_test['lemmatized_text'] = df_test['lemmatized_text'].apply(lambda text: remove_punctuation(text))\n",
    "\n",
    "df_train['lemmatized_text'] = df_train['lemmatized_text'].apply(lambda text: remove_multiple_spaces(text))\n",
    "df_test['lemmatized_text'] = df_test['lemmatized_text'].apply(lambda text: remove_multiple_spaces(text))"
   ]
  },
  {
   "cell_type": "code",
   "execution_count": 9,
   "metadata": {
    "execution": {
     "iopub.execute_input": "2024-02-20T06:27:48.070261Z",
     "iopub.status.busy": "2024-02-20T06:27:48.070007Z",
     "iopub.status.idle": "2024-02-20T06:27:50.201039Z",
     "shell.execute_reply": "2024-02-20T06:27:50.200099Z",
     "shell.execute_reply.started": "2024-02-20T06:27:48.070240Z"
    }
   },
   "outputs": [
    {
     "data": {
      "application/vnd.jupyter.widget-view+json": {
       "model_id": "cef06b2829b0497abe985728c933a009",
       "version_major": 2,
       "version_minor": 0
      },
      "text/plain": [
       "tokenizer_config.json:   0%|          | 0.00/1.25k [00:00<?, ?B/s]"
      ]
     },
     "metadata": {},
     "output_type": "display_data"
    },
    {
     "data": {
      "application/vnd.jupyter.widget-view+json": {
       "model_id": "1d4060593a38453bad17ac5cefdb7812",
       "version_major": 2,
       "version_minor": 0
      },
      "text/plain": [
       "vocab.json:   0%|          | 0.00/1.71M [00:00<?, ?B/s]"
      ]
     },
     "metadata": {},
     "output_type": "display_data"
    },
    {
     "data": {
      "application/vnd.jupyter.widget-view+json": {
       "model_id": "e7e268d339ca4ef0aaa9a7967f063c68",
       "version_major": 2,
       "version_minor": 0
      },
      "text/plain": [
       "merges.txt:   0%|          | 0.00/1.27M [00:00<?, ?B/s]"
      ]
     },
     "metadata": {},
     "output_type": "display_data"
    },
    {
     "data": {
      "application/vnd.jupyter.widget-view+json": {
       "model_id": "6c1466c328ab40719caf8edd65c140b8",
       "version_major": 2,
       "version_minor": 0
      },
      "text/plain": [
       "special_tokens_map.json:   0%|          | 0.00/574 [00:00<?, ?B/s]"
      ]
     },
     "metadata": {},
     "output_type": "display_data"
    },
    {
     "data": {
      "text/plain": [
       "1"
      ]
     },
     "execution_count": 9,
     "metadata": {},
     "output_type": "execute_result"
    }
   ],
   "source": [
    "model_checkpoint = 'ai-forever/rugpt3small_based_on_gpt2'\n",
    "\n",
    "\n",
    "tokenizer = AutoTokenizer.from_pretrained(model_checkpoint)\n",
    "tokenizer.add_special_tokens({'pad_token': '[PAD]'})\n",
    "\n"
   ]
  },
  {
   "cell_type": "code",
   "execution_count": 10,
   "metadata": {
    "execution": {
     "iopub.execute_input": "2024-02-20T06:27:50.202638Z",
     "iopub.status.busy": "2024-02-20T06:27:50.202342Z",
     "iopub.status.idle": "2024-02-20T06:27:54.699650Z",
     "shell.execute_reply": "2024-02-20T06:27:54.698800Z",
     "shell.execute_reply.started": "2024-02-20T06:27:50.202613Z"
    }
   },
   "outputs": [
    {
     "data": {
      "application/vnd.jupyter.widget-view+json": {
       "model_id": "eadea48d3fc64d52bcaf8978336881e9",
       "version_major": 2,
       "version_minor": 0
      },
      "text/plain": [
       "config.json:   0%|          | 0.00/720 [00:00<?, ?B/s]"
      ]
     },
     "metadata": {},
     "output_type": "display_data"
    },
    {
     "data": {
      "application/vnd.jupyter.widget-view+json": {
       "model_id": "4f25dbe13d534de1b25f63b694c60b69",
       "version_major": 2,
       "version_minor": 0
      },
      "text/plain": [
       "pytorch_model.bin:   0%|          | 0.00/551M [00:00<?, ?B/s]"
      ]
     },
     "metadata": {},
     "output_type": "display_data"
    },
    {
     "name": "stderr",
     "output_type": "stream",
     "text": [
      "/opt/conda/lib/python3.10/site-packages/torch/_utils.py:831: UserWarning: TypedStorage is deprecated. It will be removed in the future and UntypedStorage will be the only storage class. This should only matter to you if you are using storages directly.  To access UntypedStorage directly, use tensor.untyped_storage() instead of tensor.storage()\n",
      "  return self.fget.__get__(instance, owner)()\n",
      "Some weights of GPT2ForSequenceClassification were not initialized from the model checkpoint at ai-forever/rugpt3small_based_on_gpt2 and are newly initialized: ['score.weight']\n",
      "You should probably TRAIN this model on a down-stream task to be able to use it for predictions and inference.\n"
     ]
    }
   ],
   "source": [
    "class Model(nn.Module):\n",
    "    def __init__(self, tokenizer, num_classes=2):\n",
    "        super().__init__()\n",
    "        self.model = AutoModelForSequenceClassification.from_pretrained(model_checkpoint, num_labels=num_classes)\n",
    "        self.model.resize_token_embeddings(len(tokenizer))\n",
    "        self.config = self.model.config\n",
    "\n",
    "    def forward(self, input_ids=None, attention_mask=None, inputs_embeds=None, *args, **kwargs):\n",
    "        out = self.model.transformer(\n",
    "            input_ids=input_ids, inputs_embeds=inputs_embeds, attention_mask=attention_mask\n",
    "        ).last_hidden_state\n",
    "        lens = attention_mask.sum(-1).cpu() - 1\n",
    "        out = out[torch.arange(len(lens)), lens.to(torch.long)]\n",
    "        \n",
    "        return self.model.score(out)\n",
    "    \n",
    "    @property\n",
    "    def device(self):\n",
    "        return next(self.model.parameters()).device\n",
    "\n",
    "\n",
    "num_classes = 2\n",
    "model = Model(tokenizer, num_classes)"
   ]
  },
  {
   "cell_type": "code",
   "execution_count": 11,
   "metadata": {
    "execution": {
     "iopub.execute_input": "2024-02-20T06:27:54.703199Z",
     "iopub.status.busy": "2024-02-20T06:27:54.702750Z",
     "iopub.status.idle": "2024-02-20T06:27:54.710240Z",
     "shell.execute_reply": "2024-02-20T06:27:54.709266Z",
     "shell.execute_reply.started": "2024-02-20T06:27:54.703173Z"
    }
   },
   "outputs": [
    {
     "data": {
      "text/plain": [
       "Model(\n",
       "  (model): GPT2ForSequenceClassification(\n",
       "    (transformer): GPT2Model(\n",
       "      (wte): Embedding(50258, 768)\n",
       "      (wpe): Embedding(2048, 768)\n",
       "      (drop): Dropout(p=0.1, inplace=False)\n",
       "      (h): ModuleList(\n",
       "        (0-11): 12 x GPT2Block(\n",
       "          (ln_1): LayerNorm((768,), eps=1e-05, elementwise_affine=True)\n",
       "          (attn): GPT2Attention(\n",
       "            (c_attn): Conv1D()\n",
       "            (c_proj): Conv1D()\n",
       "            (attn_dropout): Dropout(p=0.1, inplace=False)\n",
       "            (resid_dropout): Dropout(p=0.1, inplace=False)\n",
       "          )\n",
       "          (ln_2): LayerNorm((768,), eps=1e-05, elementwise_affine=True)\n",
       "          (mlp): GPT2MLP(\n",
       "            (c_fc): Conv1D()\n",
       "            (c_proj): Conv1D()\n",
       "            (act): NewGELUActivation()\n",
       "            (dropout): Dropout(p=0.1, inplace=False)\n",
       "          )\n",
       "        )\n",
       "      )\n",
       "      (ln_f): LayerNorm((768,), eps=1e-05, elementwise_affine=True)\n",
       "    )\n",
       "    (score): Linear(in_features=768, out_features=2, bias=False)\n",
       "  )\n",
       ")"
      ]
     },
     "execution_count": 11,
     "metadata": {},
     "output_type": "execute_result"
    }
   ],
   "source": [
    "model"
   ]
  },
  {
   "cell_type": "code",
   "execution_count": 12,
   "metadata": {
    "execution": {
     "iopub.execute_input": "2024-02-20T06:27:54.711771Z",
     "iopub.status.busy": "2024-02-20T06:27:54.711397Z",
     "iopub.status.idle": "2024-02-20T06:27:54.722869Z",
     "shell.execute_reply": "2024-02-20T06:27:54.721979Z",
     "shell.execute_reply.started": "2024-02-20T06:27:54.711736Z"
    }
   },
   "outputs": [
    {
     "data": {
      "text/plain": [
       "125228544"
      ]
     },
     "execution_count": 12,
     "metadata": {},
     "output_type": "execute_result"
    }
   ],
   "source": [
    "sum([p.numel() for p in model.parameters()])"
   ]
  },
  {
   "cell_type": "code",
   "execution_count": 13,
   "metadata": {
    "execution": {
     "iopub.execute_input": "2024-02-20T06:27:54.724506Z",
     "iopub.status.busy": "2024-02-20T06:27:54.724155Z",
     "iopub.status.idle": "2024-02-20T06:27:54.739427Z",
     "shell.execute_reply": "2024-02-20T06:27:54.738574Z",
     "shell.execute_reply.started": "2024-02-20T06:27:54.724476Z"
    }
   },
   "outputs": [
    {
     "data": {
      "text/plain": [
       "{'input_ids': [276, 276, 276, 276, 276, 276, 276, 276, 276, 276, 276, 276, 203, 203, 1098, 18920, 3957, 16, 753, 5343, 48310, 30650, 334, 6619, 48083, 10283, 16, 2815, 33256, 7638, 18, 677, 322, 359, 339, 20892, 848, 22439, 16152, 31932, 6492, 264, 1492, 365, 322, 359, 339, 20892, 848, 22439, 16152, 2287, 39760, 1280, 1492, 26605, 1039, 287, 1663, 3626, 2301, 8180, 23568, 42212, 50, 1492, 365, 33110, 4357, 16152, 491, 12610, 1280, 1492, 365, 33110, 4357, 16152, 2511, 39760, 1280, 1492, 225], 'attention_mask': [1, 1, 1, 1, 1, 1, 1, 1, 1, 1, 1, 1, 1, 1, 1, 1, 1, 1, 1, 1, 1, 1, 1, 1, 1, 1, 1, 1, 1, 1, 1, 1, 1, 1, 1, 1, 1, 1, 1, 1, 1, 1, 1, 1, 1, 1, 1, 1, 1, 1, 1, 1, 1, 1, 1, 1, 1, 1, 1, 1, 1, 1, 1, 1, 1, 1, 1, 1, 1, 1, 1, 1, 1, 1, 1, 1, 1, 1, 1, 1, 1, 1, 1]}"
      ]
     },
     "execution_count": 13,
     "metadata": {},
     "output_type": "execute_result"
    }
   ],
   "source": [
    "tokenizer(df_train['lemmatized_text'].iloc[1])"
   ]
  },
  {
   "cell_type": "code",
   "execution_count": 14,
   "metadata": {
    "execution": {
     "iopub.execute_input": "2024-02-20T06:27:54.740777Z",
     "iopub.status.busy": "2024-02-20T06:27:54.740494Z",
     "iopub.status.idle": "2024-02-20T06:27:54.746227Z",
     "shell.execute_reply": "2024-02-20T06:27:54.745381Z",
     "shell.execute_reply.started": "2024-02-20T06:27:54.740752Z"
    }
   },
   "outputs": [
    {
     "data": {
      "text/plain": [
       "'ыыыыыыыыыыыы\\n\\nЛондон хочет, чтобы Москва выдала подозреваемых по делу Скрипалей, заявил британский премьер.В не лемматизированном тексте 94 символа . В не лемматизированном тексте 11 уникальных слов . Самая распрастраненная часть речи PROPN . В изначальном тексте 2 стоп слов . В изначальном тексте 13 уникальных слов . '"
      ]
     },
     "execution_count": 14,
     "metadata": {},
     "output_type": "execute_result"
    }
   ],
   "source": [
    "df_train['lemmatized_text'].iloc[1]"
   ]
  },
  {
   "cell_type": "code",
   "execution_count": 15,
   "metadata": {
    "execution": {
     "iopub.execute_input": "2024-02-20T06:27:54.747623Z",
     "iopub.status.busy": "2024-02-20T06:27:54.747316Z",
     "iopub.status.idle": "2024-02-20T06:27:54.865565Z",
     "shell.execute_reply": "2024-02-20T06:27:54.864535Z",
     "shell.execute_reply.started": "2024-02-20T06:27:54.747594Z"
    }
   },
   "outputs": [],
   "source": [
    "df_train['len'] = df_train['lemmatized_text'].apply(len)\n",
    "df_train = df_train[df_train['len']<=375]\n",
    "\n",
    "df_test['len'] = df_test['lemmatized_text'].apply(len)\n",
    "df_test = df_test[df_test['len']<=375]"
   ]
  },
  {
   "cell_type": "code",
   "execution_count": 16,
   "metadata": {
    "execution": {
     "iopub.execute_input": "2024-02-20T06:27:54.867094Z",
     "iopub.status.busy": "2024-02-20T06:27:54.866732Z",
     "iopub.status.idle": "2024-02-20T06:27:54.881112Z",
     "shell.execute_reply": "2024-02-20T06:27:54.880241Z",
     "shell.execute_reply.started": "2024-02-20T06:27:54.867062Z"
    }
   },
   "outputs": [
    {
     "data": {
      "text/html": [
       "<div>\n",
       "<style scoped>\n",
       "    .dataframe tbody tr th:only-of-type {\n",
       "        vertical-align: middle;\n",
       "    }\n",
       "\n",
       "    .dataframe tbody tr th {\n",
       "        vertical-align: top;\n",
       "    }\n",
       "\n",
       "    .dataframe thead th {\n",
       "        text-align: right;\n",
       "    }\n",
       "</style>\n",
       "<table border=\"1\" class=\"dataframe\">\n",
       "  <thead>\n",
       "    <tr style=\"text-align: right;\">\n",
       "      <th></th>\n",
       "      <th>lemmatized_text</th>\n",
       "      <th>Class</th>\n",
       "      <th>len</th>\n",
       "    </tr>\n",
       "  </thead>\n",
       "  <tbody>\n",
       "    <tr>\n",
       "      <th>0</th>\n",
       "      <td>Постановлением губернатора Дмитрия Азарова в р...</td>\n",
       "      <td>0</td>\n",
       "      <td>350</td>\n",
       "    </tr>\n",
       "    <tr>\n",
       "      <th>1</th>\n",
       "      <td>В российский прокат выходит второй сезон сериа...</td>\n",
       "      <td>1</td>\n",
       "      <td>343</td>\n",
       "    </tr>\n",
       "    <tr>\n",
       "      <th>2</th>\n",
       "      <td>При этом общие мощности Группы по выпуску пелл...</td>\n",
       "      <td>0</td>\n",
       "      <td>322</td>\n",
       "    </tr>\n",
       "    <tr>\n",
       "      <th>3</th>\n",
       "      <td>Здесь ведь не Петербург: ни пожарной команды, ...</td>\n",
       "      <td>1</td>\n",
       "      <td>280</td>\n",
       "    </tr>\n",
       "    <tr>\n",
       "      <th>4</th>\n",
       "      <td>Топили баню мылась Настя с Фаей играли спать в...</td>\n",
       "      <td>0</td>\n",
       "      <td>273</td>\n",
       "    </tr>\n",
       "    <tr>\n",
       "      <th>...</th>\n",
       "      <td>...</td>\n",
       "      <td>...</td>\n",
       "      <td>...</td>\n",
       "    </tr>\n",
       "    <tr>\n",
       "      <th>12890</th>\n",
       "      <td>Свобода несет ответственность за нарушения в с...</td>\n",
       "      <td>1</td>\n",
       "      <td>267</td>\n",
       "    </tr>\n",
       "    <tr>\n",
       "      <th>12892</th>\n",
       "      <td>Ажнина Мария Семенова Анна Иванова Мария М. Ю....</td>\n",
       "      <td>0</td>\n",
       "      <td>269</td>\n",
       "    </tr>\n",
       "    <tr>\n",
       "      <th>12893</th>\n",
       "      <td>Могу ли я сфотографировать вас?В не лемматизир...</td>\n",
       "      <td>1</td>\n",
       "      <td>241</td>\n",
       "    </tr>\n",
       "    <tr>\n",
       "      <th>12894</th>\n",
       "      <td>Гэмбон, наряду с Робертом Стивенсом, Дереком Я...</td>\n",
       "      <td>0</td>\n",
       "      <td>355</td>\n",
       "    </tr>\n",
       "    <tr>\n",
       "      <th>12895</th>\n",
       "      <td>Рештаки работали хорошо и мы кончили пай в 15 ...</td>\n",
       "      <td>0</td>\n",
       "      <td>263</td>\n",
       "    </tr>\n",
       "  </tbody>\n",
       "</table>\n",
       "<p>9533 rows × 3 columns</p>\n",
       "</div>"
      ],
      "text/plain": [
       "                                         lemmatized_text  Class  len\n",
       "0      Постановлением губернатора Дмитрия Азарова в р...      0  350\n",
       "1      В российский прокат выходит второй сезон сериа...      1  343\n",
       "2      При этом общие мощности Группы по выпуску пелл...      0  322\n",
       "3      Здесь ведь не Петербург: ни пожарной команды, ...      1  280\n",
       "4      Топили баню мылась Настя с Фаей играли спать в...      0  273\n",
       "...                                                  ...    ...  ...\n",
       "12890  Свобода несет ответственность за нарушения в с...      1  267\n",
       "12892  Ажнина Мария Семенова Анна Иванова Мария М. Ю....      0  269\n",
       "12893  Могу ли я сфотографировать вас?В не лемматизир...      1  241\n",
       "12894  Гэмбон, наряду с Робертом Стивенсом, Дереком Я...      0  355\n",
       "12895  Рештаки работали хорошо и мы кончили пай в 15 ...      0  263\n",
       "\n",
       "[9533 rows x 3 columns]"
      ]
     },
     "execution_count": 16,
     "metadata": {},
     "output_type": "execute_result"
    }
   ],
   "source": [
    "df_test"
   ]
  },
  {
   "cell_type": "code",
   "execution_count": 17,
   "metadata": {
    "execution": {
     "iopub.execute_input": "2024-02-20T06:27:54.882401Z",
     "iopub.status.busy": "2024-02-20T06:27:54.882145Z",
     "iopub.status.idle": "2024-02-20T06:28:05.093723Z",
     "shell.execute_reply": "2024-02-20T06:28:05.092748Z",
     "shell.execute_reply.started": "2024-02-20T06:27:54.882379Z"
    }
   },
   "outputs": [
    {
     "name": "stderr",
     "output_type": "stream",
     "text": [
      "2024-02-20 06:27:56.636905: E external/local_xla/xla/stream_executor/cuda/cuda_dnn.cc:9261] Unable to register cuDNN factory: Attempting to register factory for plugin cuDNN when one has already been registered\n",
      "2024-02-20 06:27:56.637035: E external/local_xla/xla/stream_executor/cuda/cuda_fft.cc:607] Unable to register cuFFT factory: Attempting to register factory for plugin cuFFT when one has already been registered\n",
      "2024-02-20 06:27:56.760594: E external/local_xla/xla/stream_executor/cuda/cuda_blas.cc:1515] Unable to register cuBLAS factory: Attempting to register factory for plugin cuBLAS when one has already been registered\n"
     ]
    },
    {
     "data": {
      "text/plain": [
       "'ыыыыыыыыыыыы\\n\\nЛондон хочет, чтобы Москва выдала подозреваемых по делу Скрипалей, заявил британский премьер.В не лемматизированном тексте 94 символа. В не лемматизированном тексте 11 уникальных слов. Самая распрастраненная часть речи PROPN. В изначальном тексте 2 стоп слов. В изначальном тексте 13 уникальных слов. '"
      ]
     },
     "execution_count": 17,
     "metadata": {},
     "output_type": "execute_result"
    }
   ],
   "source": [
    "tokenizer.decode([276, 276, 276, 276, 276, 276, 276, 276, 276, 276, 276, 276, 203, 203, 1098, 18920, 3957, 16, 753, 5343, 48310, 30650, 334, 6619, 48083, 10283, 16, 2815, 33256, 7638, 18, 677, 322, 359, 339, 20892, 848, 22439, 16152, 31932, 6492, 264, 1492, 365, 322, 359, 339, 20892, 848, 22439, 16152, 2287, 39760, 1280, 1492, 26605, 1039, 287, 1663, 3626, 2301, 8180, 23568, 42212, 50, 1492, 365, 33110, 4357, 16152, 491, 12610, 1280, 1492, 365, 33110, 4357, 16152, 2511, 39760, 1280, 1492, 225])"
   ]
  },
  {
   "cell_type": "code",
   "execution_count": 18,
   "metadata": {
    "execution": {
     "iopub.execute_input": "2024-02-20T06:28:05.095910Z",
     "iopub.status.busy": "2024-02-20T06:28:05.095178Z",
     "iopub.status.idle": "2024-02-20T06:28:05.339558Z",
     "shell.execute_reply": "2024-02-20T06:28:05.338588Z",
     "shell.execute_reply.started": "2024-02-20T06:28:05.095874Z"
    }
   },
   "outputs": [],
   "source": [
    "batch_size = 50\n",
    "train_loader = DataLoader(df_train[['lemmatized_text','Class']].to_dict('records'), shuffle=True, batch_size=batch_size, num_workers=2)\n",
    "test_loader = DataLoader(df_test[['lemmatized_text','Class']].to_dict('records'), shuffle=False, batch_size=batch_size, num_workers=2)"
   ]
  },
  {
   "cell_type": "code",
   "execution_count": 20,
   "metadata": {
    "execution": {
     "iopub.execute_input": "2024-02-20T06:28:07.239101Z",
     "iopub.status.busy": "2024-02-20T06:28:07.238657Z",
     "iopub.status.idle": "2024-02-20T06:28:07.256474Z",
     "shell.execute_reply": "2024-02-20T06:28:07.255588Z",
     "shell.execute_reply.started": "2024-02-20T06:28:07.239062Z"
    }
   },
   "outputs": [
    {
     "data": {
      "text/plain": [
       "Class\n",
       "0    43647\n",
       "1    42585\n",
       "Name: count, dtype: int64"
      ]
     },
     "execution_count": 20,
     "metadata": {},
     "output_type": "execute_result"
    }
   ],
   "source": [
    "df_train['Class'].value_counts()"
   ]
  },
  {
   "cell_type": "code",
   "execution_count": 21,
   "metadata": {
    "execution": {
     "iopub.execute_input": "2024-02-20T06:28:07.258834Z",
     "iopub.status.busy": "2024-02-20T06:28:07.257899Z",
     "iopub.status.idle": "2024-02-20T06:28:07.556346Z",
     "shell.execute_reply": "2024-02-20T06:28:07.555521Z",
     "shell.execute_reply.started": "2024-02-20T06:28:07.258798Z"
    }
   },
   "outputs": [],
   "source": [
    "_ = model.to(device)"
   ]
  },
  {
   "cell_type": "code",
   "execution_count": 22,
   "metadata": {
    "execution": {
     "iopub.execute_input": "2024-02-20T06:28:07.558361Z",
     "iopub.status.busy": "2024-02-20T06:28:07.557744Z",
     "iopub.status.idle": "2024-02-20T06:28:07.581967Z",
     "shell.execute_reply": "2024-02-20T06:28:07.581004Z",
     "shell.execute_reply.started": "2024-02-20T06:28:07.558325Z"
    }
   },
   "outputs": [],
   "source": [
    "def training_loop_fn(model, opt, total_num_iters, eval_freq, train_loader, valid_loader,scheduler=None):\n",
    "    train_loss_history, eval_loss_history = [], []\n",
    "    train_acc_history, eval_acc_history = [], []\n",
    "    global_step = 0\n",
    "\n",
    "    criterion = torch.nn.CrossEntropyLoss()\n",
    "    model.train()\n",
    "    while True:\n",
    "        for batch in tqdm(train_loader):\n",
    "            tokenized = tokenizer(batch[\"lemmatized_text\"], padding=True, return_tensors='pt')\n",
    "            for k, v in tokenized.items():\n",
    "                tokenized[k] = v.to(device)\n",
    "            \n",
    "            with torch.autocast(device_type='cuda', dtype=torch.float16):\n",
    "                logits = model(tokenized['input_ids'], tokenized['attention_mask'], return_dict=False)\n",
    "            \n",
    "            \n",
    "            targets = batch[\"Class\"].to(device)\n",
    "            \n",
    "            \n",
    "            loss = criterion(logits, targets)\n",
    "            \n",
    "            \n",
    "            opt.zero_grad()\n",
    "            loss.backward()\n",
    "            opt.step()\n",
    "            \n",
    "            if scheduler is not None: \n",
    "                scheduler.step()\n",
    "            \n",
    "            \n",
    "            preds = torch.nn.functional.softmax(logits, dim=-1)[:, 1]\n",
    "            \n",
    "            \n",
    "            acc = accuracy(preds, targets, task='binary')\n",
    "    \n",
    "            train_loss_history.append((global_step, loss.item()))\n",
    "            train_acc_history.append((global_step, acc.item()))\n",
    "    \n",
    "            if global_step % eval_freq == 0:\n",
    "                val_loss, val_acc = evaluate(model, valid_loader)\n",
    "                eval_loss_history.append((global_step, val_loss))\n",
    "                eval_acc_history.append((global_step, val_acc))\n",
    "                                         \n",
    "                model.train()\n",
    "\n",
    "            if global_step % 250 == 0:\n",
    "                clear_output(True)\n",
    "\n",
    "                plt.figure(figsize=(15, 5))\n",
    "\n",
    "                plt.subplot(121)\n",
    "                plt.plot(*zip(*train_loss_history), alpha=0.5, label='train_loss')\n",
    "                if len(eval_loss_history):\n",
    "                    plt.plot(*zip(*eval_loss_history), color='red', label='eval_loss')\n",
    "                plt.legend()    \n",
    "                \n",
    "                plt.subplot(122)\n",
    "                plt.plot(*zip(*train_acc_history), alpha=0.5, label='train_acc')\n",
    "                if len(eval_acc_history):\n",
    "                    plt.plot(*zip(*eval_acc_history), color='red', label='eval_acc')\n",
    "                plt.legend()\n",
    "                plt.show()\n",
    "            \n",
    "            if (global_step == 1250):\n",
    "                opt.param_groups[0]['lr'] = 7e-6\n",
    "            if (global_step == 1750):\n",
    "                opt.param_groups[0]['lr'] = 6e-6\n",
    "            if (global_step == 2250):\n",
    "                opt.param_groups[0]['lr'] = 5e-6\n",
    "            if (global_step % 3500 == 0) and (global_step != 0):\n",
    "                opt.param_groups[0]['lr'] = 3e-6\n",
    "            if (global_step % 4000 == 0) and (global_step != 0):\n",
    "                opt.param_groups[0]['lr'] = 1e-6\n",
    "            \n",
    "            global_step += 1\n",
    "            if global_step > total_num_iters:\n",
    "                break\n",
    "        else:\n",
    "            continue\n",
    "        break \n",
    "\n",
    "\n",
    "@torch.no_grad()\n",
    "def evaluate(model, dataloader):\n",
    "    model.eval()\n",
    "    criterion = torch.nn.CrossEntropyLoss()\n",
    "    loss_epoch = 0.\n",
    "    num_epoch = 0.\n",
    "    preds_list = []\n",
    "    targets_list = []\n",
    "\n",
    "    for eval_batch in dataloader:\n",
    "        tokenized = tokenizer(eval_batch[\"lemmatized_text\"], padding=True, return_tensors='pt')\n",
    "        for k, v in tokenized.items():\n",
    "            tokenized[k] = v.to(device)\n",
    "\n",
    "        with torch.autocast(device_type='cuda', dtype=torch.float16):\n",
    "            logits = model(tokenized['input_ids'], tokenized['attention_mask'], return_dict=False)\n",
    "\n",
    "        loss = criterion(logits, eval_batch[\"Class\"].to(device))\n",
    "        num = logits.shape[0]\n",
    "\n",
    "        loss_epoch += loss.item() * num\n",
    "        num_epoch += num\n",
    "        preds = torch.nn.functional.softmax(logits, dim=-1)[:, 1]\n",
    "\n",
    "        targets_list += eval_batch[\"Class\"].tolist()\n",
    "        preds_list += preds.tolist()\n",
    "\n",
    "    acc = accuracy(torch.tensor(preds_list).to(device), torch.tensor(targets_list).to(device), task='binary')\n",
    "\n",
    "    return loss_epoch / num_epoch, acc.item()"
   ]
  },
  {
   "cell_type": "markdown",
   "metadata": {},
   "source": [
    "## Fine-tuning"
   ]
  },
  {
   "cell_type": "code",
   "execution_count": 23,
   "metadata": {
    "execution": {
     "iopub.execute_input": "2024-02-20T05:38:02.212275Z",
     "iopub.status.busy": "2024-02-20T05:38:02.211935Z",
     "iopub.status.idle": "2024-02-20T05:38:02.229921Z",
     "shell.execute_reply": "2024-02-20T05:38:02.229007Z",
     "shell.execute_reply.started": "2024-02-20T05:38:02.212244Z"
    }
   },
   "outputs": [
    {
     "data": {
      "text/html": [
       "<div>\n",
       "<style scoped>\n",
       "    .dataframe tbody tr th:only-of-type {\n",
       "        vertical-align: middle;\n",
       "    }\n",
       "\n",
       "    .dataframe tbody tr th {\n",
       "        vertical-align: top;\n",
       "    }\n",
       "\n",
       "    .dataframe thead th {\n",
       "        text-align: right;\n",
       "    }\n",
       "</style>\n",
       "<table border=\"1\" class=\"dataframe\">\n",
       "  <thead>\n",
       "    <tr style=\"text-align: right;\">\n",
       "      <th></th>\n",
       "      <th>lemmatized_text</th>\n",
       "      <th>Class</th>\n",
       "      <th>len</th>\n",
       "    </tr>\n",
       "  </thead>\n",
       "  <tbody>\n",
       "    <tr>\n",
       "      <th>1</th>\n",
       "      <td>ыыыыыыыыыыыы\\n\\nЛондон хочет, чтобы Москва выд...</td>\n",
       "      <td>0</td>\n",
       "      <td>320</td>\n",
       "    </tr>\n",
       "    <tr>\n",
       "      <th>2</th>\n",
       "      <td>Летом тепло около 5 секунд, а зимой около 10 с...</td>\n",
       "      <td>1</td>\n",
       "      <td>262</td>\n",
       "    </tr>\n",
       "    <tr>\n",
       "      <th>3</th>\n",
       "      <td>господи нас в марте вынесло с того что антон о...</td>\n",
       "      <td>0</td>\n",
       "      <td>359</td>\n",
       "    </tr>\n",
       "    <tr>\n",
       "      <th>4</th>\n",
       "      <td>До Парижа пятьдесят километров.В не лемматизир...</td>\n",
       "      <td>0</td>\n",
       "      <td>240</td>\n",
       "    </tr>\n",
       "    <tr>\n",
       "      <th>6</th>\n",
       "      <td>Автор делит своё исследование на пять книг.В н...</td>\n",
       "      <td>0</td>\n",
       "      <td>253</td>\n",
       "    </tr>\n",
       "    <tr>\n",
       "      <th>...</th>\n",
       "      <td>...</td>\n",
       "      <td>...</td>\n",
       "      <td>...</td>\n",
       "    </tr>\n",
       "    <tr>\n",
       "      <th>116054</th>\n",
       "      <td>Шойгу анонсировал регулярные совместные учения...</td>\n",
       "      <td>0</td>\n",
       "      <td>273</td>\n",
       "    </tr>\n",
       "    <tr>\n",
       "      <th>116055</th>\n",
       "      <td>Главная цель заключается прежде всего в создан...</td>\n",
       "      <td>1</td>\n",
       "      <td>292</td>\n",
       "    </tr>\n",
       "    <tr>\n",
       "      <th>116056</th>\n",
       "      <td>Право объявлять войну и заключать мир перешло ...</td>\n",
       "      <td>0</td>\n",
       "      <td>282</td>\n",
       "    </tr>\n",
       "    <tr>\n",
       "      <th>116058</th>\n",
       "      <td>Название Шаньси означает «запад горы», так как...</td>\n",
       "      <td>0</td>\n",
       "      <td>294</td>\n",
       "    </tr>\n",
       "    <tr>\n",
       "      <th>116060</th>\n",
       "      <td>Украинцы не нацеливались ни на какую конкретну...</td>\n",
       "      <td>1</td>\n",
       "      <td>269</td>\n",
       "    </tr>\n",
       "  </tbody>\n",
       "</table>\n",
       "<p>86232 rows × 3 columns</p>\n",
       "</div>"
      ],
      "text/plain": [
       "                                          lemmatized_text  Class  len\n",
       "1       ыыыыыыыыыыыы\\n\\nЛондон хочет, чтобы Москва выд...      0  320\n",
       "2       Летом тепло около 5 секунд, а зимой около 10 с...      1  262\n",
       "3       господи нас в марте вынесло с того что антон о...      0  359\n",
       "4       До Парижа пятьдесят километров.В не лемматизир...      0  240\n",
       "6       Автор делит своё исследование на пять книг.В н...      0  253\n",
       "...                                                   ...    ...  ...\n",
       "116054  Шойгу анонсировал регулярные совместные учения...      0  273\n",
       "116055  Главная цель заключается прежде всего в создан...      1  292\n",
       "116056  Право объявлять войну и заключать мир перешло ...      0  282\n",
       "116058  Название Шаньси означает «запад горы», так как...      0  294\n",
       "116060  Украинцы не нацеливались ни на какую конкретну...      1  269\n",
       "\n",
       "[86232 rows x 3 columns]"
      ]
     },
     "execution_count": 23,
     "metadata": {},
     "output_type": "execute_result"
    }
   ],
   "source": [
    "df_train"
   ]
  },
  {
   "cell_type": "code",
   "execution_count": 23,
   "metadata": {
    "execution": {
     "iopub.execute_input": "2024-02-20T06:28:07.583410Z",
     "iopub.status.busy": "2024-02-20T06:28:07.583170Z",
     "iopub.status.idle": "2024-02-20T06:28:09.172494Z",
     "shell.execute_reply": "2024-02-20T06:28:09.171475Z",
     "shell.execute_reply.started": "2024-02-20T06:28:07.583389Z"
    }
   },
   "outputs": [
    {
     "name": "stderr",
     "output_type": "stream",
     "text": [
      "Some weights of GPT2ForSequenceClassification were not initialized from the model checkpoint at ai-forever/rugpt3small_based_on_gpt2 and are newly initialized: ['score.weight']\n",
      "You should probably TRAIN this model on a down-stream task to be able to use it for predictions and inference.\n"
     ]
    }
   ],
   "source": [
    "total_samples = len(df_train)\n",
    "bs = batch_size\n",
    "n_epochs = 5000\n",
    "\n",
    "num_warmup_steps = (total_samples // bs) * 425\n",
    "num_training_steps = (total_samples // bs) * n_epochs\n",
    "\n",
    "model = Model(tokenizer, num_classes).to(device)\n",
    "optimizer = AdamW(model.parameters(), lr=2e-5) #3e-5\n",
    "#scheduler = get_polynomial_decay_schedule_with_warmup(optimizer, \n",
    "#                                            num_warmup_steps=num_warmup_steps, \n",
    "#                                            num_training_steps=num_training_steps,\n",
    " #                                           lr_end=2e-6,\n",
    "#                                            power=0.15)\n",
    "#print(f\"Num_warmup_steps: {num_warmup_steps:>5}\")\n",
    "#print(f\"num_training_steps: {num_training_steps}\")\n",
    "#lrs = []"
   ]
  },
  {
   "cell_type": "code",
   "execution_count": 24,
   "metadata": {
    "execution": {
     "iopub.execute_input": "2024-02-20T06:28:09.174667Z",
     "iopub.status.busy": "2024-02-20T06:28:09.173930Z",
     "iopub.status.idle": "2024-02-20T07:22:19.885239Z",
     "shell.execute_reply": "2024-02-20T07:22:19.883951Z",
     "shell.execute_reply.started": "2024-02-20T06:28:09.174632Z"
    }
   },
   "outputs": [
    {
     "data": {
      "image/png": "[encoded data removed]",
      "text/plain": [
       "<Figure size 1500x500 with 2 Axes>"
      ]
     },
     "metadata": {},
     "output_type": "display_data"
    },
    {
     "name": "stdout",
     "output_type": "stream",
     "text": [
      "CPU times: user 54min 1s, sys: 8.97 s, total: 54min 10s\n",
      "Wall time: 54min 10s\n"
     ]
    }
   ],
   "source": [
    "%%time\n",
    "training_loop_fn(model, optimizer, n_epochs, 250, train_loader, test_loader)"
   ]
  },
  {
   "cell_type": "code",
   "execution_count": 25,
   "metadata": {
    "execution": {
     "iopub.execute_input": "2024-02-20T07:22:24.358572Z",
     "iopub.status.busy": "2024-02-20T07:22:24.358190Z",
     "iopub.status.idle": "2024-02-20T07:22:59.303444Z",
     "shell.execute_reply": "2024-02-20T07:22:59.302114Z",
     "shell.execute_reply.started": "2024-02-20T07:22:24.358522Z"
    }
   },
   "outputs": [
    {
     "name": "stdout",
     "output_type": "stream",
     "text": [
      "val loss: 0.530903905758287\n",
      "val accuracy: 0.71992027759552\n"
     ]
    }
   ],
   "source": [
    "val_loss, val_acc = evaluate(model, test_loader)\n",
    "print(f'val loss: {val_loss}')\n",
    "print(f'val accuracy: {val_acc}')"
   ]
  },
  {
   "cell_type": "code",
   "execution_count": 26,
   "metadata": {
    "execution": {
     "iopub.execute_input": "2024-02-20T07:24:00.223597Z",
     "iopub.status.busy": "2024-02-20T07:24:00.223192Z",
     "iopub.status.idle": "2024-02-20T07:24:31.594157Z",
     "shell.execute_reply": "2024-02-20T07:24:31.593299Z",
     "shell.execute_reply.started": "2024-02-20T07:24:00.223560Z"
    }
   },
   "outputs": [],
   "source": [
    "torch.save(model.state_dict(), '/kaggle/working/model_3')"
   ]
  },
  {
   "cell_type": "markdown",
   "metadata": {},
   "source": [
    "## PEFT"
   ]
  },
  {
   "cell_type": "code",
   "execution_count": 30,
   "metadata": {
    "execution": {
     "iopub.execute_input": "2024-02-20T07:26:24.880098Z",
     "iopub.status.busy": "2024-02-20T07:26:24.879411Z",
     "iopub.status.idle": "2024-02-20T07:26:26.598989Z",
     "shell.execute_reply": "2024-02-20T07:26:26.598034Z",
     "shell.execute_reply.started": "2024-02-20T07:26:24.880065Z"
    }
   },
   "outputs": [
    {
     "name": "stderr",
     "output_type": "stream",
     "text": [
      "Some weights of GPT2ForSequenceClassification were not initialized from the model checkpoint at ai-forever/rugpt3small_based_on_gpt2 and are newly initialized: ['score.weight']\n",
      "You should probably TRAIN this model on a down-stream task to be able to use it for predictions and inference.\n"
     ]
    },
    {
     "name": "stdout",
     "output_type": "stream",
     "text": [
      "trainable params: 296,448 || all params: 125,524,992 || trainable%: 0.23616651574851324\n"
     ]
    },
    {
     "name": "stderr",
     "output_type": "stream",
     "text": [
      "/opt/conda/lib/python3.10/site-packages/peft/tuners/lora/layer.py:711: UserWarning: fan_in_fan_out is set to False but the target module is `Conv1D`. Setting fan_in_fan_out to True.\n",
      "  warnings.warn(\n"
     ]
    }
   ],
   "source": [
    "peft_config = LoraConfig(\n",
    "    task_type=TaskType.SEQ_CLS, inference_mode=False, r=8, lora_dropout=0.1, target_modules=['c_attn']\n",
    ")\n",
    "\n",
    "model = Model(tokenizer, num_classes).to(device)\n",
    "lora_model = get_peft_model(model, peft_config).to(device)\n",
    "lora_model.print_trainable_parameters()"
   ]
  },
  {
   "cell_type": "code",
   "execution_count": 31,
   "metadata": {
    "execution": {
     "iopub.execute_input": "2024-02-20T07:26:26.751051Z",
     "iopub.status.busy": "2024-02-20T07:26:26.750705Z",
     "iopub.status.idle": "2024-02-20T07:26:26.758689Z",
     "shell.execute_reply": "2024-02-20T07:26:26.757651Z",
     "shell.execute_reply.started": "2024-02-20T07:26:26.751024Z"
    }
   },
   "outputs": [
    {
     "data": {
      "text/plain": [
       "296448"
      ]
     },
     "execution_count": 31,
     "metadata": {},
     "output_type": "execute_result"
    }
   ],
   "source": [
    "sum(p.numel() for p in lora_model.parameters() if p.requires_grad)"
   ]
  },
  {
   "cell_type": "code",
   "execution_count": 32,
   "metadata": {
    "execution": {
     "iopub.execute_input": "2024-02-20T07:26:29.951385Z",
     "iopub.status.busy": "2024-02-20T07:26:29.950717Z",
     "iopub.status.idle": "2024-02-20T07:26:29.960309Z",
     "shell.execute_reply": "2024-02-20T07:26:29.959332Z",
     "shell.execute_reply.started": "2024-02-20T07:26:29.951354Z"
    }
   },
   "outputs": [],
   "source": [
    "optimizer = AdamW(lora_model.parameters(), lr=4e-5)"
   ]
  },
  {
   "cell_type": "code",
   "execution_count": 33,
   "metadata": {
    "execution": {
     "iopub.execute_input": "2024-02-20T07:26:44.394302Z",
     "iopub.status.busy": "2024-02-20T07:26:44.393568Z",
     "iopub.status.idle": "2024-02-20T07:54:44.343834Z",
     "shell.execute_reply": "2024-02-20T07:54:44.342497Z",
     "shell.execute_reply.started": "2024-02-20T07:26:44.394267Z"
    }
   },
   "outputs": [
    {
     "data": {
      "image/png": "[encoded data removed]",
      "text/plain": [
       "<Figure size 1500x500 with 2 Axes>"
      ]
     },
     "metadata": {},
     "output_type": "display_data"
    },
    {
     "name": "stdout",
     "output_type": "stream",
     "text": [
      "CPU times: user 27min 54s, sys: 4.96 s, total: 27min 59s\n",
      "Wall time: 27min 59s\n"
     ]
    }
   ],
   "source": [
    "%%time\n",
    "training_loop_fn(lora_model, optimizer, 3000, 250, train_loader, test_loader)"
   ]
  },
  {
   "cell_type": "code",
   "execution_count": 34,
   "metadata": {
    "execution": {
     "iopub.execute_input": "2024-02-20T07:54:52.467821Z",
     "iopub.status.busy": "2024-02-20T07:54:52.467044Z",
     "iopub.status.idle": "2024-02-20T07:54:52.474544Z",
     "shell.execute_reply": "2024-02-20T07:54:52.473503Z",
     "shell.execute_reply.started": "2024-02-20T07:54:52.467754Z"
    }
   },
   "outputs": [],
   "source": [
    "torch.save(lora_model.base_model.model.model.score.state_dict(), 'lora_head.pt')"
   ]
  },
  {
   "cell_type": "code",
   "execution_count": 35,
   "metadata": {
    "execution": {
     "iopub.execute_input": "2024-02-20T07:54:56.227491Z",
     "iopub.status.busy": "2024-02-20T07:54:56.226891Z",
     "iopub.status.idle": "2024-02-20T07:54:56.235815Z",
     "shell.execute_reply": "2024-02-20T07:54:56.234894Z",
     "shell.execute_reply.started": "2024-02-20T07:54:56.227458Z"
    }
   },
   "outputs": [
    {
     "data": {
      "text/plain": [
       "odict_keys(['original_module.weight', 'modules_to_save.default.weight'])"
      ]
     },
     "execution_count": 35,
     "metadata": {},
     "output_type": "execute_result"
    }
   ],
   "source": [
    "chkpt = torch.load('lora_head.pt')\n",
    "chkpt.keys()"
   ]
  },
  {
   "cell_type": "code",
   "execution_count": 36,
   "metadata": {
    "execution": {
     "iopub.execute_input": "2024-02-20T07:55:09.245351Z",
     "iopub.status.busy": "2024-02-20T07:55:09.244996Z",
     "iopub.status.idle": "2024-02-20T07:55:11.401332Z",
     "shell.execute_reply": "2024-02-20T07:55:11.400533Z",
     "shell.execute_reply.started": "2024-02-20T07:55:09.245323Z"
    }
   },
   "outputs": [
    {
     "name": "stderr",
     "output_type": "stream",
     "text": [
      "Some weights of GPT2ForSequenceClassification were not initialized from the model checkpoint at ai-forever/rugpt3small_based_on_gpt2 and are newly initialized: ['score.weight']\n",
      "You should probably TRAIN this model on a down-stream task to be able to use it for predictions and inference.\n"
     ]
    }
   ],
   "source": [
    "model = Model(tokenizer, num_classes).to(device)\n",
    "model.model.score.load_state_dict({\n",
    "    'weight': torch.load('lora_head.pt')['modules_to_save.default.weight']\n",
    "})\n",
    "optimizer = AdamW(model.parameters(), lr=4e-5)"
   ]
  },
  {
   "cell_type": "code",
   "execution_count": 37,
   "metadata": {
    "execution": {
     "iopub.execute_input": "2024-02-20T07:55:16.649264Z",
     "iopub.status.busy": "2024-02-20T07:55:16.648773Z",
     "iopub.status.idle": "2024-02-20T08:41:51.051646Z",
     "shell.execute_reply": "2024-02-20T08:41:51.050509Z",
     "shell.execute_reply.started": "2024-02-20T07:55:16.649226Z"
    }
   },
   "outputs": [
    {
     "data": {
      "image/png": "[encoded data removed]",
      "text/plain": [
       "<Figure size 1500x500 with 2 Axes>"
      ]
     },
     "metadata": {},
     "output_type": "display_data"
    },
    {
     "name": "stdout",
     "output_type": "stream",
     "text": [
      "CPU times: user 46min 6s, sys: 7.61 s, total: 46min 14s\n",
      "Wall time: 46min 34s\n"
     ]
    }
   ],
   "source": [
    "%%time\n",
    "training_loop_fn(model, optimizer, 4250, 250, train_loader, test_loader)"
   ]
  },
  {
   "cell_type": "code",
   "execution_count": 38,
   "metadata": {
    "execution": {
     "iopub.execute_input": "2024-02-20T08:45:21.346961Z",
     "iopub.status.busy": "2024-02-20T08:45:21.346575Z",
     "iopub.status.idle": "2024-02-20T08:45:56.260349Z",
     "shell.execute_reply": "2024-02-20T08:45:56.259257Z",
     "shell.execute_reply.started": "2024-02-20T08:45:21.346924Z"
    }
   },
   "outputs": [
    {
     "name": "stdout",
     "output_type": "stream",
     "text": [
      "val loss: 0.5655068761965016\n",
      "val accuracy: 0.6958984732627869\n"
     ]
    }
   ],
   "source": [
    "val_loss, val_acc = evaluate(model, test_loader)\n",
    "print(f'val loss: {val_loss}')\n",
    "print(f'val accuracy: {val_acc}')"
   ]
  }
 ],
 "metadata": {
  "kaggle": {
   "accelerator": "none",
   "dataSources": [
    {
     "datasetId": 4456979,
     "sourceId": 7646285,
     "sourceType": "datasetVersion"
    },
    {
     "datasetId": 4457686,
     "sourceId": 7647340,
     "sourceType": "datasetVersion"
    },
    {
     "datasetId": 4457998,
     "sourceId": 7647787,
     "sourceType": "datasetVersion"
    },
    {
     "datasetId": 4466482,
     "sourceId": 7660313,
     "sourceType": "datasetVersion"
    }
   ],
   "dockerImageVersionId": 30648,
   "isGpuEnabled": false,
   "isInternetEnabled": true,
   "language": "python",
   "sourceType": "notebook"
  },
  "kernelspec": {
   "display_name": "Python 3 (ipykernel)",
   "language": "python",
   "name": "python3"
  },
  "language_info": {
   "codemirror_mode": {
    "name": "ipython",
    "version": 3
   },
   "file_extension": ".py",
   "mimetype": "text/x-python",
   "name": "python",
   "nbconvert_exporter": "python",
   "pygments_lexer": "ipython3",
   "version": "3.11.5"
  },
  "toc": {
   "base_numbering": 1,
   "nav_menu": {},
   "number_sections": true,
   "sideBar": true,
   "skip_h1_title": false,
   "title_cell": "Table of Contents",
   "title_sidebar": "Contents",
   "toc_cell": false,
   "toc_position": {},
   "toc_section_display": true,
   "toc_window_display": false
  }
 },
 "nbformat": 4,
 "nbformat_minor": 4
}
