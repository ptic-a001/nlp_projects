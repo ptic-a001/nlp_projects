{
 "cells": [
  {
   "cell_type": "markdown",
   "id": "1e3b5ecd",
   "metadata": {},
   "source": [
    "# Проект для «Викишоп»"
   ]
  },
  {
   "cell_type": "markdown",
   "id": "e7505128",
   "metadata": {},
   "source": [
    "Интернет-магазин «Викишоп» запускает новый сервис. Теперь пользователи могут редактировать и дополнять описания товаров, как в вики-сообществах. То есть клиенты предлагают свои правки и комментируют изменения других. Магазину нужен инструмент, который будет искать токсичные комментарии и отправлять их на модерацию. \n",
    "\n",
    "Обучите модель классифицировать комментарии на позитивные и негативные. В вашем распоряжении набор данных с разметкой о токсичности правок.\n",
    "\n",
    "Постройте модель со значением метрики качества *F1* не меньше 0.75. \n",
    "\n",
    "**Инструкция по выполнению проекта**\n",
    "\n",
    "1. Загрузите и подготовьте данные.\n",
    "2. Обучите разные модели. \n",
    "3. Сделайте выводы.\n",
    "\n",
    "\n",
    "**Описание данных**\n",
    "\n",
    "Данные находятся в файле `toxic_comments.csv`. Столбец *text* в нём содержит текст комментария, а *toxic* — целевой признак."
   ]
  },
  {
   "cell_type": "markdown",
   "id": "18cb453b",
   "metadata": {},
   "source": [
    "## Подготовка"
   ]
  },
  {
   "cell_type": "code",
   "execution_count": 1,
   "id": "44c43e2a",
   "metadata": {},
   "outputs": [],
   "source": [
    "import subprocess"
   ]
  },
  {
   "cell_type": "code",
   "execution_count": 2,
   "id": "390768d8",
   "metadata": {},
   "outputs": [
    {
     "name": "stdout",
     "output_type": "stream",
     "text": [
      "nltk установлена, версия: 3.8.1\n",
      "spacy установлена, версия: 3.7.2\n",
      "lightgbm установлена, версия: 4.3.0\n"
     ]
    }
   ],
   "source": [
    "packages = ['nltk', 'spacy', 'lightgbm']\n",
    "\n",
    "for package in packages:\n",
    "    try:\n",
    "        output = subprocess.check_output(f'pip show {package}', shell=True)\n",
    "        version = output.decode().split('\\n')[1].split(': ')[1]\n",
    "        print(f'{package} установлена, версия: {version}')\n",
    "    except subprocess.CalledProcessError:\n",
    "        print(f'{package} не установлена')"
   ]
  },
  {
   "cell_type": "code",
   "execution_count": 3,
   "id": "e6b7fc00",
   "metadata": {},
   "outputs": [],
   "source": [
    "import numpy as np\n",
    "import pandas as pd\n",
    "\n",
    "import nltk\n",
    "from nltk.corpus import stopwords as nltk_stopwords\n",
    "import spacy\n",
    "\n",
    "from sklearn.feature_extraction.text import TfidfVectorizer\n",
    "from sklearn.model_selection import train_test_split,RandomizedSearchCV\n",
    "from lightgbm import LGBMClassifier\n",
    "from sklearn.ensemble import RandomForestClassifier\n",
    "import lightgbm as lgb\n",
    "from sklearn.metrics import f1_score\n",
    "\n",
    "from multiprocessing import Pool, Manager\n",
    "from tqdm.auto import tqdm\n",
    "\n",
    "from joblib import Parallel, delayed\n",
    "\n",
    "from sklearn.pipeline import Pipeline\n",
    "\n",
    "import matplotlib.pyplot as plt\n",
    "import warnings\n",
    "warnings.filterwarnings('ignore')"
   ]
  },
  {
   "cell_type": "code",
   "execution_count": 4,
   "id": "97e252c8",
   "metadata": {},
   "outputs": [],
   "source": [
    "try: \n",
    "    df = pd.read_csv('toxic_comments.csv')\n",
    "except:\n",
    "    df = pd.read_csv('<link>')"
   ]
  },
  {
   "cell_type": "code",
   "execution_count": 5,
   "id": "0f5cf5ee",
   "metadata": {},
   "outputs": [
    {
     "data": {
      "text/html": [
       "<div>\n",
       "<style scoped>\n",
       "    .dataframe tbody tr th:only-of-type {\n",
       "        vertical-align: middle;\n",
       "    }\n",
       "\n",
       "    .dataframe tbody tr th {\n",
       "        vertical-align: top;\n",
       "    }\n",
       "\n",
       "    .dataframe thead th {\n",
       "        text-align: right;\n",
       "    }\n",
       "</style>\n",
       "<table border=\"1\" class=\"dataframe\">\n",
       "  <thead>\n",
       "    <tr style=\"text-align: right;\">\n",
       "      <th></th>\n",
       "      <th>Unnamed: 0</th>\n",
       "      <th>text</th>\n",
       "      <th>toxic</th>\n",
       "    </tr>\n",
       "  </thead>\n",
       "  <tbody>\n",
       "    <tr>\n",
       "      <th>0</th>\n",
       "      <td>0</td>\n",
       "      <td>Explanation\\nWhy the edits made under my usern...</td>\n",
       "      <td>0</td>\n",
       "    </tr>\n",
       "    <tr>\n",
       "      <th>1</th>\n",
       "      <td>1</td>\n",
       "      <td>D'aww! He matches this background colour I'm s...</td>\n",
       "      <td>0</td>\n",
       "    </tr>\n",
       "    <tr>\n",
       "      <th>2</th>\n",
       "      <td>2</td>\n",
       "      <td>Hey man, I'm really not trying to edit war. It...</td>\n",
       "      <td>0</td>\n",
       "    </tr>\n",
       "    <tr>\n",
       "      <th>3</th>\n",
       "      <td>3</td>\n",
       "      <td>\"\\nMore\\nI can't make any real suggestions on ...</td>\n",
       "      <td>0</td>\n",
       "    </tr>\n",
       "    <tr>\n",
       "      <th>4</th>\n",
       "      <td>4</td>\n",
       "      <td>You, sir, are my hero. Any chance you remember...</td>\n",
       "      <td>0</td>\n",
       "    </tr>\n",
       "  </tbody>\n",
       "</table>\n",
       "</div>"
      ],
      "text/plain": [
       "   Unnamed: 0                                               text  toxic\n",
       "0           0  Explanation\\nWhy the edits made under my usern...      0\n",
       "1           1  D'aww! He matches this background colour I'm s...      0\n",
       "2           2  Hey man, I'm really not trying to edit war. It...      0\n",
       "3           3  \"\\nMore\\nI can't make any real suggestions on ...      0\n",
       "4           4  You, sir, are my hero. Any chance you remember...      0"
      ]
     },
     "metadata": {},
     "output_type": "display_data"
    },
    {
     "name": "stdout",
     "output_type": "stream",
     "text": [
      "<class 'pandas.core.frame.DataFrame'>\n",
      "RangeIndex: 159292 entries, 0 to 159291\n",
      "Data columns (total 3 columns):\n",
      " #   Column      Non-Null Count   Dtype \n",
      "---  ------      --------------   ----- \n",
      " 0   Unnamed: 0  159292 non-null  int64 \n",
      " 1   text        159292 non-null  object\n",
      " 2   toxic       159292 non-null  int64 \n",
      "dtypes: int64(2), object(1)\n",
      "memory usage: 3.6+ MB\n"
     ]
    }
   ],
   "source": [
    "display(df.head())\n",
    "df.info()"
   ]
  },
  {
   "cell_type": "code",
   "execution_count": 6,
   "id": "1ef79a47",
   "metadata": {},
   "outputs": [],
   "source": [
    "df = df.drop('Unnamed: 0', axis=1)"
   ]
  },
  {
   "cell_type": "code",
   "execution_count": 7,
   "id": "416d7c5c",
   "metadata": {},
   "outputs": [],
   "source": [
    "dupl_df = df.duplicated().sum()\n",
    "dupl_text = df['text'].duplicated().sum()"
   ]
  },
  {
   "cell_type": "code",
   "execution_count": 8,
   "id": "a50529f3",
   "metadata": {},
   "outputs": [
    {
     "name": "stdout",
     "output_type": "stream",
     "text": [
      " Кол-во дублирующихся строк: 0\n",
      " Кол-во дублирующихся строк:0\n"
     ]
    }
   ],
   "source": [
    "print(f' Кол-во дублирующихся строк: {dupl_df}')\n",
    "print(f' Кол-во дублирующихся строк:{dupl_text}')\n"
   ]
  },
  {
   "cell_type": "code",
   "execution_count": 9,
   "id": "32f60840",
   "metadata": {
    "scrolled": false
   },
   "outputs": [
    {
     "data": {
      "image/png": "[encoded data removed]",
      "text/plain": [
       "<Figure size 600x400 with 1 Axes>"
      ]
     },
     "metadata": {},
     "output_type": "display_data"
    },
    {
     "data": {
      "image/png": "[encoded data removed]",
      "text/plain": [
       "<Figure size 600x400 with 1 Axes>"
      ]
     },
     "metadata": {},
     "output_type": "display_data"
    }
   ],
   "source": [
    "plt.figure(figsize=(6,4))\n",
    "df['toxic'].value_counts().plot(kind='bar')\n",
    "plt.title('Распределение таргета')\n",
    "plt.show()\n",
    "plt.figure(figsize=(6,4))\n",
    "df['toxic'].value_counts(normalize=True).plot(kind='bar')\n",
    "plt.title('Распределение таргета в %')\n",
    "plt.show()"
   ]
  },
  {
   "cell_type": "markdown",
   "id": "d9489e43",
   "metadata": {},
   "source": [
    "<div style='background-color: #f2f2f2; padding: 10px; border: 3px solid #ccc; border-radius: 10px;'>\n",
    "    <p><strong>Промежуточный вывод:</strong>   <br><br>\n",
    "• Из графиков видно, что есть дисбаланс классов 9:1 в пользу не токсичных комментариев, нужно будет учесть при разбиении   <br><br>\n",
    "• Дубликатов и пропусков в строках не обнаружено <br><br>\n",
    "• Удален дублирующий индексы столбец  \n",
    "</p>\n",
    "</div>"
   ]
  },
  {
   "cell_type": "code",
   "execution_count": 10,
   "id": "81f72cc5",
   "metadata": {},
   "outputs": [],
   "source": [
    "#Приведем к нижнему регистру\n",
    "df['text']=df['text'].str.lower()"
   ]
  },
  {
   "cell_type": "code",
   "execution_count": 12,
   "id": "e8399d79",
   "metadata": {},
   "outputs": [],
   "source": [
    "disabled_pipes = [\"parser\",  \"ner\"]\n",
    "nlp = spacy.load('en_core_web_sm', disable=disabled_pipes)\n",
    "def lemmatize(text):\n",
    "    doc = nlp(text)\n",
    "    lemmas = [token.lemma_ for token in doc if token.is_alpha]\n",
    "    return \" \".join(lemmas)"
   ]
  },
  {
   "cell_type": "code",
   "execution_count": 14,
   "id": "6657782e",
   "metadata": {},
   "outputs": [],
   "source": [
    "df = df.copy()"
   ]
  },
  {
   "cell_type": "code",
   "execution_count": 29,
   "id": "b5ace924",
   "metadata": {},
   "outputs": [
    {
     "data": {
      "application/vnd.jupyter.widget-view+json": {
       "model_id": "b66c274ec5fd4a8f8ab06622402c9ffd",
       "version_major": 2,
       "version_minor": 0
      },
      "text/plain": [
       "  0%|          | 0/159292 [00:00<?, ?it/s]"
      ]
     },
     "metadata": {},
     "output_type": "display_data"
    }
   ],
   "source": [
    "def lemmatize(text):\n",
    "    '''Функция для лемматизации текста'''\n",
    "    doc = nlp(text)\n",
    "    lemmas = [token.lemma_ for token in doc if token.is_alpha]\n",
    "    return \" \".join(lemmas)\n",
    "\n",
    "def process_part(data):\n",
    "    '''Функция для обработки части DataFrame'''\n",
    "    df_part, progress_queue = data\n",
    "    results = []\n",
    "    for text in df_part['text']:\n",
    "        lemmatized_text = lemmatize(text)\n",
    "        results.append(lemmatized_text)\n",
    "        progress_queue.put(1)  \n",
    "    df_part['lemm_text'] = results\n",
    "    return df_part\n",
    "\n",
    "def parallelize_dataframe(df, func, n_cores=4):\n",
    "    '''Функция для распараллеливания обработки'''\n",
    "    manager = Manager()\n",
    "    progress_queue = manager.Queue()  \n",
    "    df_split = np.array_split(df, n_cores)\n",
    "    pool = Pool(n_cores)\n",
    "    tasks = [(part, progress_queue) for part in df_split]\n",
    "    result_async = pool.map_async(func, tasks)\n",
    "    \n",
    "    pbar = tqdm(total=len(df))\n",
    "    try:\n",
    "        while not result_async.ready():\n",
    "            while not progress_queue.empty():\n",
    "                pbar.update(progress_queue.get())\n",
    "            result_async.wait(timeout=0.1)  \n",
    "    finally:\n",
    "        pbar.close()  \n",
    "        pool.close()\n",
    "        pool.join()\n",
    "    \n",
    "    return pd.concat(result_async.get())\n",
    "\n",
    "\n",
    "\n",
    "df_processed = parallelize_dataframe(df, process_part)"
   ]
  },
  {
   "cell_type": "code",
   "execution_count": 30,
   "id": "f61094d8",
   "metadata": {
    "scrolled": false
   },
   "outputs": [
    {
     "data": {
      "text/html": [
       "<div>\n",
       "<style scoped>\n",
       "    .dataframe tbody tr th:only-of-type {\n",
       "        vertical-align: middle;\n",
       "    }\n",
       "\n",
       "    .dataframe tbody tr th {\n",
       "        vertical-align: top;\n",
       "    }\n",
       "\n",
       "    .dataframe thead th {\n",
       "        text-align: right;\n",
       "    }\n",
       "</style>\n",
       "<table border=\"1\" class=\"dataframe\">\n",
       "  <thead>\n",
       "    <tr style=\"text-align: right;\">\n",
       "      <th></th>\n",
       "      <th>text</th>\n",
       "      <th>toxic</th>\n",
       "      <th>lemm_text</th>\n",
       "    </tr>\n",
       "  </thead>\n",
       "  <tbody>\n",
       "    <tr>\n",
       "      <th>0</th>\n",
       "      <td>explanation\\nwhy the edits made under my usern...</td>\n",
       "      <td>0</td>\n",
       "      <td>explanation why the edit make under my usernam...</td>\n",
       "    </tr>\n",
       "    <tr>\n",
       "      <th>1</th>\n",
       "      <td>d'aww! he matches this background colour i'm s...</td>\n",
       "      <td>0</td>\n",
       "      <td>he match this background colour I seemingly st...</td>\n",
       "    </tr>\n",
       "    <tr>\n",
       "      <th>2</th>\n",
       "      <td>hey man, i'm really not trying to edit war. it...</td>\n",
       "      <td>0</td>\n",
       "      <td>hey man I really not try to edit war it just t...</td>\n",
       "    </tr>\n",
       "    <tr>\n",
       "      <th>3</th>\n",
       "      <td>\"\\nmore\\ni can't make any real suggestions on ...</td>\n",
       "      <td>0</td>\n",
       "      <td>more I can make any real suggestion on improve...</td>\n",
       "    </tr>\n",
       "    <tr>\n",
       "      <th>4</th>\n",
       "      <td>you, sir, are my hero. any chance you remember...</td>\n",
       "      <td>0</td>\n",
       "      <td>you sir be my hero any chance you remember wha...</td>\n",
       "    </tr>\n",
       "  </tbody>\n",
       "</table>\n",
       "</div>"
      ],
      "text/plain": [
       "                                                text  toxic  \\\n",
       "0  explanation\\nwhy the edits made under my usern...      0   \n",
       "1  d'aww! he matches this background colour i'm s...      0   \n",
       "2  hey man, i'm really not trying to edit war. it...      0   \n",
       "3  \"\\nmore\\ni can't make any real suggestions on ...      0   \n",
       "4  you, sir, are my hero. any chance you remember...      0   \n",
       "\n",
       "                                           lemm_text  \n",
       "0  explanation why the edit make under my usernam...  \n",
       "1  he match this background colour I seemingly st...  \n",
       "2  hey man I really not try to edit war it just t...  \n",
       "3  more I can make any real suggestion on improve...  \n",
       "4  you sir be my hero any chance you remember wha...  "
      ]
     },
     "execution_count": 30,
     "metadata": {},
     "output_type": "execute_result"
    }
   ],
   "source": [
    "df_processed.head()"
   ]
  },
  {
   "cell_type": "code",
   "execution_count": 32,
   "id": "41b2ad9f",
   "metadata": {},
   "outputs": [
    {
     "data": {
      "text/html": [
       "<div>\n",
       "<style scoped>\n",
       "    .dataframe tbody tr th:only-of-type {\n",
       "        vertical-align: middle;\n",
       "    }\n",
       "\n",
       "    .dataframe tbody tr th {\n",
       "        vertical-align: top;\n",
       "    }\n",
       "\n",
       "    .dataframe thead th {\n",
       "        text-align: right;\n",
       "    }\n",
       "</style>\n",
       "<table border=\"1\" class=\"dataframe\">\n",
       "  <thead>\n",
       "    <tr style=\"text-align: right;\">\n",
       "      <th></th>\n",
       "      <th>text</th>\n",
       "      <th>toxic</th>\n",
       "      <th>lemm_text</th>\n",
       "    </tr>\n",
       "  </thead>\n",
       "  <tbody>\n",
       "    <tr>\n",
       "      <th>158122</th>\n",
       "      <td>btw, 250 000 died in the war, not 100 000! i h...</td>\n",
       "      <td>0</td>\n",
       "      <td>btw die in the war not I have change that</td>\n",
       "    </tr>\n",
       "    <tr>\n",
       "      <th>52890</th>\n",
       "      <td>\"\\n\\n request for a complete export of one art...</td>\n",
       "      <td>0</td>\n",
       "      <td>request for a complete export of one article a...</td>\n",
       "    </tr>\n",
       "    <tr>\n",
       "      <th>13780</th>\n",
       "      <td>you will not shut me or alun up with sludge-ta...</td>\n",
       "      <td>1</td>\n",
       "      <td>you will not shut I or alun up with sludge tal...</td>\n",
       "    </tr>\n",
       "    <tr>\n",
       "      <th>2328</th>\n",
       "      <td>1997 domestic grosses \\nbatman and robin warne...</td>\n",
       "      <td>0</td>\n",
       "      <td>domestic gross batman and robin warner bros to...</td>\n",
       "    </tr>\n",
       "    <tr>\n",
       "      <th>15207</th>\n",
       "      <td>what i do not understand is, if i am told i ca...</td>\n",
       "      <td>0</td>\n",
       "      <td>what I do not understand be if I be tell I can...</td>\n",
       "    </tr>\n",
       "  </tbody>\n",
       "</table>\n",
       "</div>"
      ],
      "text/plain": [
       "                                                     text  toxic  \\\n",
       "158122  btw, 250 000 died in the war, not 100 000! i h...      0   \n",
       "52890   \"\\n\\n request for a complete export of one art...      0   \n",
       "13780   you will not shut me or alun up with sludge-ta...      1   \n",
       "2328    1997 domestic grosses \\nbatman and robin warne...      0   \n",
       "15207   what i do not understand is, if i am told i ca...      0   \n",
       "\n",
       "                                                lemm_text  \n",
       "158122          btw die in the war not I have change that  \n",
       "52890   request for a complete export of one article a...  \n",
       "13780   you will not shut I or alun up with sludge tal...  \n",
       "2328    domestic gross batman and robin warner bros to...  \n",
       "15207   what I do not understand be if I be tell I can...  "
      ]
     },
     "execution_count": 32,
     "metadata": {},
     "output_type": "execute_result"
    }
   ],
   "source": [
    "df_processed.sample(5)"
   ]
  },
  {
   "cell_type": "code",
   "execution_count": 33,
   "id": "265a94af",
   "metadata": {
    "scrolled": true
   },
   "outputs": [
    {
     "data": {
      "text/html": [
       "<div>\n",
       "<style scoped>\n",
       "    .dataframe tbody tr th:only-of-type {\n",
       "        vertical-align: middle;\n",
       "    }\n",
       "\n",
       "    .dataframe tbody tr th {\n",
       "        vertical-align: top;\n",
       "    }\n",
       "\n",
       "    .dataframe thead th {\n",
       "        text-align: right;\n",
       "    }\n",
       "</style>\n",
       "<table border=\"1\" class=\"dataframe\">\n",
       "  <thead>\n",
       "    <tr style=\"text-align: right;\">\n",
       "      <th></th>\n",
       "      <th>text</th>\n",
       "      <th>toxic</th>\n",
       "      <th>lemm_text</th>\n",
       "    </tr>\n",
       "  </thead>\n",
       "  <tbody>\n",
       "    <tr>\n",
       "      <th>159287</th>\n",
       "      <td>\":::::and for the second time of asking, when ...</td>\n",
       "      <td>0</td>\n",
       "      <td>and for the second time of asking when your vi...</td>\n",
       "    </tr>\n",
       "    <tr>\n",
       "      <th>159288</th>\n",
       "      <td>you should be ashamed of yourself \\n\\nthat is ...</td>\n",
       "      <td>0</td>\n",
       "      <td>you should be ashamed of yourself that be a ho...</td>\n",
       "    </tr>\n",
       "    <tr>\n",
       "      <th>159289</th>\n",
       "      <td>spitzer \\n\\numm, theres no actual article for ...</td>\n",
       "      <td>0</td>\n",
       "      <td>spitzer umm there s no actual article for pros...</td>\n",
       "    </tr>\n",
       "    <tr>\n",
       "      <th>159290</th>\n",
       "      <td>and it looks like it was actually you who put ...</td>\n",
       "      <td>0</td>\n",
       "      <td>and it look like it be actually you who put on...</td>\n",
       "    </tr>\n",
       "    <tr>\n",
       "      <th>159291</th>\n",
       "      <td>\"\\nand ... i really don't think you understand...</td>\n",
       "      <td>0</td>\n",
       "      <td>and I really do think you understand I come he...</td>\n",
       "    </tr>\n",
       "  </tbody>\n",
       "</table>\n",
       "</div>"
      ],
      "text/plain": [
       "                                                     text  toxic  \\\n",
       "159287  \":::::and for the second time of asking, when ...      0   \n",
       "159288  you should be ashamed of yourself \\n\\nthat is ...      0   \n",
       "159289  spitzer \\n\\numm, theres no actual article for ...      0   \n",
       "159290  and it looks like it was actually you who put ...      0   \n",
       "159291  \"\\nand ... i really don't think you understand...      0   \n",
       "\n",
       "                                                lemm_text  \n",
       "159287  and for the second time of asking when your vi...  \n",
       "159288  you should be ashamed of yourself that be a ho...  \n",
       "159289  spitzer umm there s no actual article for pros...  \n",
       "159290  and it look like it be actually you who put on...  \n",
       "159291  and I really do think you understand I come he...  "
      ]
     },
     "execution_count": 33,
     "metadata": {},
     "output_type": "execute_result"
    }
   ],
   "source": [
    "df_processed.tail()"
   ]
  },
  {
   "cell_type": "markdown",
   "id": "3e522df5",
   "metadata": {},
   "source": [
    "<div style='background-color: #f2f2f2; padding: 10px; border: 3px solid #ccc; border-radius: 10px;'>\n",
    "    <p><strong>Промежуточный вывод:</strong>   <br><br>\n",
    "• Была проведена лемматизация и очистка с помощью библиотеки spacy. По 5 первым, 5 случайным и 5 конечным - убедились, что преобразовано все верно  <br><br>\n",
    "\n",
    "   \n",
    "</p>\n",
    "</div>"
   ]
  },
  {
   "cell_type": "markdown",
   "id": "3a7a28ba",
   "metadata": {},
   "source": [
    "## Обучение"
   ]
  },
  {
   "cell_type": "code",
   "execution_count": 34,
   "id": "13f283ad",
   "metadata": {},
   "outputs": [
    {
     "name": "stderr",
     "output_type": "stream",
     "text": [
      "[nltk_data] Downloading package stopwords to /home/pt1c4/nltk_data...\n",
      "[nltk_data]   Unzipping corpora/stopwords.zip.\n"
     ]
    }
   ],
   "source": [
    "features,target = df_processed['lemm_text'],df_processed['toxic']\n",
    " \n",
    "X_train, X_test, y_train, y_test = train_test_split(features, target, test_size=0.1, random_state=0xEDA)\n",
    "\n",
    "nltk.download('stopwords')\n",
    "stopwords = list(nltk_stopwords.words('english'))\n",
    "\n",
    "tf_idf = TfidfVectorizer(preprocessor=lambda x: x.lower(),stop_words=stopwords) \n"
   ]
  },
  {
   "cell_type": "code",
   "execution_count": 35,
   "id": "268dbc2f",
   "metadata": {
    "scrolled": true
   },
   "outputs": [
    {
     "name": "stdout",
     "output_type": "stream",
     "text": [
      "Fitting 3 folds for each of 4 candidates, totalling 12 fits\n",
      "[LightGBM] [Info] Number of positive: 14565, number of negative: 128797\n",
      "[LightGBM] [Info] Auto-choosing row-wise multi-threading, the overhead of testing was 7.350072 seconds.\n",
      "You can set `force_row_wise=true` to remove the overhead.\n",
      "And if memory is not enough, you can set `force_col_wise=true`.\n",
      "[LightGBM] [Info] Total Bins 571897\n",
      "[LightGBM] [Info] Number of data points in the train set: 143362, number of used features: 10317\n",
      "[LightGBM] [Info] [binary:BoostFromScore]: pavg=0.500000 -> initscore=-0.000000\n",
      "[LightGBM] [Info] Start training from score -0.000000\n",
      "CPU times: user 7min 52s, sys: 20.8 s, total: 8min 12s\n",
      "Wall time: 28min 29s\n"
     ]
    },
    {
     "data": {
      "text/html": [
       "<style>#sk-container-id-1 {color: black;}#sk-container-id-1 pre{padding: 0;}#sk-container-id-1 div.sk-toggleable {background-color: white;}#sk-container-id-1 label.sk-toggleable__label {cursor: pointer;display: block;width: 100%;margin-bottom: 0;padding: 0.3em;box-sizing: border-box;text-align: center;}#sk-container-id-1 label.sk-toggleable__label-arrow:before {content: \"▸\";float: left;margin-right: 0.25em;color: #696969;}#sk-container-id-1 label.sk-toggleable__label-arrow:hover:before {color: black;}#sk-container-id-1 div.sk-estimator:hover label.sk-toggleable__label-arrow:before {color: black;}#sk-container-id-1 div.sk-toggleable__content {max-height: 0;max-width: 0;overflow: hidden;text-align: left;background-color: #f0f8ff;}#sk-container-id-1 div.sk-toggleable__content pre {margin: 0.2em;color: black;border-radius: 0.25em;background-color: #f0f8ff;}#sk-container-id-1 input.sk-toggleable__control:checked~div.sk-toggleable__content {max-height: 200px;max-width: 100%;overflow: auto;}#sk-container-id-1 input.sk-toggleable__control:checked~label.sk-toggleable__label-arrow:before {content: \"▾\";}#sk-container-id-1 div.sk-estimator input.sk-toggleable__control:checked~label.sk-toggleable__label {background-color: #d4ebff;}#sk-container-id-1 div.sk-label input.sk-toggleable__control:checked~label.sk-toggleable__label {background-color: #d4ebff;}#sk-container-id-1 input.sk-hidden--visually {border: 0;clip: rect(1px 1px 1px 1px);clip: rect(1px, 1px, 1px, 1px);height: 1px;margin: -1px;overflow: hidden;padding: 0;position: absolute;width: 1px;}#sk-container-id-1 div.sk-estimator {font-family: monospace;background-color: #f0f8ff;border: 1px dotted black;border-radius: 0.25em;box-sizing: border-box;margin-bottom: 0.5em;}#sk-container-id-1 div.sk-estimator:hover {background-color: #d4ebff;}#sk-container-id-1 div.sk-parallel-item::after {content: \"\";width: 100%;border-bottom: 1px solid gray;flex-grow: 1;}#sk-container-id-1 div.sk-label:hover label.sk-toggleable__label {background-color: #d4ebff;}#sk-container-id-1 div.sk-serial::before {content: \"\";position: absolute;border-left: 1px solid gray;box-sizing: border-box;top: 0;bottom: 0;left: 50%;z-index: 0;}#sk-container-id-1 div.sk-serial {display: flex;flex-direction: column;align-items: center;background-color: white;padding-right: 0.2em;padding-left: 0.2em;position: relative;}#sk-container-id-1 div.sk-item {position: relative;z-index: 1;}#sk-container-id-1 div.sk-parallel {display: flex;align-items: stretch;justify-content: center;background-color: white;position: relative;}#sk-container-id-1 div.sk-item::before, #sk-container-id-1 div.sk-parallel-item::before {content: \"\";position: absolute;border-left: 1px solid gray;box-sizing: border-box;top: 0;bottom: 0;left: 50%;z-index: -1;}#sk-container-id-1 div.sk-parallel-item {display: flex;flex-direction: column;z-index: 1;position: relative;background-color: white;}#sk-container-id-1 div.sk-parallel-item:first-child::after {align-self: flex-end;width: 50%;}#sk-container-id-1 div.sk-parallel-item:last-child::after {align-self: flex-start;width: 50%;}#sk-container-id-1 div.sk-parallel-item:only-child::after {width: 0;}#sk-container-id-1 div.sk-dashed-wrapped {border: 1px dashed gray;margin: 0 0.4em 0.5em 0.4em;box-sizing: border-box;padding-bottom: 0.4em;background-color: white;}#sk-container-id-1 div.sk-label label {font-family: monospace;font-weight: bold;display: inline-block;line-height: 1.2em;}#sk-container-id-1 div.sk-label-container {text-align: center;}#sk-container-id-1 div.sk-container {/* jupyter's `normalize.less` sets `[hidden] { display: none; }` but bootstrap.min.css set `[hidden] { display: none !important; }` so we also need the `!important` here to be able to override the default hidden behavior on the sphinx rendered scikit-learn.org. See: https://github.com/scikit-learn/scikit-learn/issues/21755 */display: inline-block !important;position: relative;}#sk-container-id-1 div.sk-text-repr-fallback {display: none;}</style><div id=\"sk-container-id-1\" class=\"sk-top-container\"><div class=\"sk-text-repr-fallback\"><pre>RandomizedSearchCV(cv=3,\n",
       "                   estimator=Pipeline(steps=[(&#x27;tfidf&#x27;,\n",
       "                                              TfidfVectorizer(preprocessor=&lt;function &lt;lambda&gt; at 0x7bd8a138aac0&gt;,\n",
       "                                                              stop_words=[&#x27;i&#x27;,\n",
       "                                                                          &#x27;me&#x27;,\n",
       "                                                                          &#x27;my&#x27;,\n",
       "                                                                          &#x27;myself&#x27;,\n",
       "                                                                          &#x27;we&#x27;,\n",
       "                                                                          &#x27;our&#x27;,\n",
       "                                                                          &#x27;ours&#x27;,\n",
       "                                                                          &#x27;ourselves&#x27;,\n",
       "                                                                          &#x27;you&#x27;,\n",
       "                                                                          &quot;you&#x27;re&quot;,\n",
       "                                                                          &quot;you&#x27;ve&quot;,\n",
       "                                                                          &quot;you&#x27;ll&quot;,\n",
       "                                                                          &quot;you&#x27;d&quot;,\n",
       "                                                                          &#x27;your&#x27;,\n",
       "                                                                          &#x27;yours&#x27;,\n",
       "                                                                          &#x27;yourself&#x27;,\n",
       "                                                                          &#x27;yourselves&#x27;,\n",
       "                                                                          &#x27;he&#x27;,\n",
       "                                                                          &#x27;him&#x27;,\n",
       "                                                                          &#x27;his&#x27;,\n",
       "                                                                          &#x27;himself&#x27;,\n",
       "                                                                          &#x27;she&#x27;,\n",
       "                                                                          &quot;she&#x27;s&quot;,\n",
       "                                                                          &#x27;her&#x27;,\n",
       "                                                                          &#x27;hers&#x27;,\n",
       "                                                                          &#x27;herself&#x27;,\n",
       "                                                                          &#x27;it&#x27;,\n",
       "                                                                          &quot;it&#x27;s&quot;,\n",
       "                                                                          &#x27;its&#x27;,\n",
       "                                                                          &#x27;itself&#x27;, ...])),\n",
       "                                             (&#x27;lgbm&#x27;,\n",
       "                                              LGBMClassifier(class_weight=&#x27;balanced&#x27;,\n",
       "                                                             random_state=3802))]),\n",
       "                   n_jobs=-1,\n",
       "                   param_distributions={&#x27;lgbm__learning_rate&#x27;: [0.14, 0.2],\n",
       "                                        &#x27;lgbm__max_depth&#x27;: [-1],\n",
       "                                        &#x27;lgbm__n_estimators&#x27;: [700, 750]},\n",
       "                   random_state=3802, scoring=&#x27;f1&#x27;, verbose=1)</pre><b>In a Jupyter environment, please rerun this cell to show the HTML representation or trust the notebook. <br />On GitHub, the HTML representation is unable to render, please try loading this page with nbviewer.org.</b></div><div class=\"sk-container\" hidden><div class=\"sk-item sk-dashed-wrapped\"><div class=\"sk-label-container\"><div class=\"sk-label sk-toggleable\"><input class=\"sk-toggleable__control sk-hidden--visually\" id=\"sk-estimator-id-1\" type=\"checkbox\" ><label for=\"sk-estimator-id-1\" class=\"sk-toggleable__label sk-toggleable__label-arrow\">RandomizedSearchCV</label><div class=\"sk-toggleable__content\"><pre>RandomizedSearchCV(cv=3,\n",
       "                   estimator=Pipeline(steps=[(&#x27;tfidf&#x27;,\n",
       "                                              TfidfVectorizer(preprocessor=&lt;function &lt;lambda&gt; at 0x7bd8a138aac0&gt;,\n",
       "                                                              stop_words=[&#x27;i&#x27;,\n",
       "                                                                          &#x27;me&#x27;,\n",
       "                                                                          &#x27;my&#x27;,\n",
       "                                                                          &#x27;myself&#x27;,\n",
       "                                                                          &#x27;we&#x27;,\n",
       "                                                                          &#x27;our&#x27;,\n",
       "                                                                          &#x27;ours&#x27;,\n",
       "                                                                          &#x27;ourselves&#x27;,\n",
       "                                                                          &#x27;you&#x27;,\n",
       "                                                                          &quot;you&#x27;re&quot;,\n",
       "                                                                          &quot;you&#x27;ve&quot;,\n",
       "                                                                          &quot;you&#x27;ll&quot;,\n",
       "                                                                          &quot;you&#x27;d&quot;,\n",
       "                                                                          &#x27;your&#x27;,\n",
       "                                                                          &#x27;yours&#x27;,\n",
       "                                                                          &#x27;yourself&#x27;,\n",
       "                                                                          &#x27;yourselves&#x27;,\n",
       "                                                                          &#x27;he&#x27;,\n",
       "                                                                          &#x27;him&#x27;,\n",
       "                                                                          &#x27;his&#x27;,\n",
       "                                                                          &#x27;himself&#x27;,\n",
       "                                                                          &#x27;she&#x27;,\n",
       "                                                                          &quot;she&#x27;s&quot;,\n",
       "                                                                          &#x27;her&#x27;,\n",
       "                                                                          &#x27;hers&#x27;,\n",
       "                                                                          &#x27;herself&#x27;,\n",
       "                                                                          &#x27;it&#x27;,\n",
       "                                                                          &quot;it&#x27;s&quot;,\n",
       "                                                                          &#x27;its&#x27;,\n",
       "                                                                          &#x27;itself&#x27;, ...])),\n",
       "                                             (&#x27;lgbm&#x27;,\n",
       "                                              LGBMClassifier(class_weight=&#x27;balanced&#x27;,\n",
       "                                                             random_state=3802))]),\n",
       "                   n_jobs=-1,\n",
       "                   param_distributions={&#x27;lgbm__learning_rate&#x27;: [0.14, 0.2],\n",
       "                                        &#x27;lgbm__max_depth&#x27;: [-1],\n",
       "                                        &#x27;lgbm__n_estimators&#x27;: [700, 750]},\n",
       "                   random_state=3802, scoring=&#x27;f1&#x27;, verbose=1)</pre></div></div></div><div class=\"sk-parallel\"><div class=\"sk-parallel-item\"><div class=\"sk-item\"><div class=\"sk-label-container\"><div class=\"sk-label sk-toggleable\"><input class=\"sk-toggleable__control sk-hidden--visually\" id=\"sk-estimator-id-2\" type=\"checkbox\" ><label for=\"sk-estimator-id-2\" class=\"sk-toggleable__label sk-toggleable__label-arrow\">estimator: Pipeline</label><div class=\"sk-toggleable__content\"><pre>Pipeline(steps=[(&#x27;tfidf&#x27;,\n",
       "                 TfidfVectorizer(preprocessor=&lt;function &lt;lambda&gt; at 0x7bd8a138aac0&gt;,\n",
       "                                 stop_words=[&#x27;i&#x27;, &#x27;me&#x27;, &#x27;my&#x27;, &#x27;myself&#x27;, &#x27;we&#x27;,\n",
       "                                             &#x27;our&#x27;, &#x27;ours&#x27;, &#x27;ourselves&#x27;, &#x27;you&#x27;,\n",
       "                                             &quot;you&#x27;re&quot;, &quot;you&#x27;ve&quot;, &quot;you&#x27;ll&quot;,\n",
       "                                             &quot;you&#x27;d&quot;, &#x27;your&#x27;, &#x27;yours&#x27;,\n",
       "                                             &#x27;yourself&#x27;, &#x27;yourselves&#x27;, &#x27;he&#x27;,\n",
       "                                             &#x27;him&#x27;, &#x27;his&#x27;, &#x27;himself&#x27;, &#x27;she&#x27;,\n",
       "                                             &quot;she&#x27;s&quot;, &#x27;her&#x27;, &#x27;hers&#x27;, &#x27;herself&#x27;,\n",
       "                                             &#x27;it&#x27;, &quot;it&#x27;s&quot;, &#x27;its&#x27;, &#x27;itself&#x27;, ...])),\n",
       "                (&#x27;lgbm&#x27;,\n",
       "                 LGBMClassifier(class_weight=&#x27;balanced&#x27;, random_state=3802))])</pre></div></div></div><div class=\"sk-serial\"><div class=\"sk-item\"><div class=\"sk-serial\"><div class=\"sk-item\"><div class=\"sk-estimator sk-toggleable\"><input class=\"sk-toggleable__control sk-hidden--visually\" id=\"sk-estimator-id-3\" type=\"checkbox\" ><label for=\"sk-estimator-id-3\" class=\"sk-toggleable__label sk-toggleable__label-arrow\">TfidfVectorizer</label><div class=\"sk-toggleable__content\"><pre>TfidfVectorizer(preprocessor=&lt;function &lt;lambda&gt; at 0x7bd8a138aac0&gt;,\n",
       "                stop_words=[&#x27;i&#x27;, &#x27;me&#x27;, &#x27;my&#x27;, &#x27;myself&#x27;, &#x27;we&#x27;, &#x27;our&#x27;, &#x27;ours&#x27;,\n",
       "                            &#x27;ourselves&#x27;, &#x27;you&#x27;, &quot;you&#x27;re&quot;, &quot;you&#x27;ve&quot;, &quot;you&#x27;ll&quot;,\n",
       "                            &quot;you&#x27;d&quot;, &#x27;your&#x27;, &#x27;yours&#x27;, &#x27;yourself&#x27;, &#x27;yourselves&#x27;,\n",
       "                            &#x27;he&#x27;, &#x27;him&#x27;, &#x27;his&#x27;, &#x27;himself&#x27;, &#x27;she&#x27;, &quot;she&#x27;s&quot;,\n",
       "                            &#x27;her&#x27;, &#x27;hers&#x27;, &#x27;herself&#x27;, &#x27;it&#x27;, &quot;it&#x27;s&quot;, &#x27;its&#x27;,\n",
       "                            &#x27;itself&#x27;, ...])</pre></div></div></div><div class=\"sk-item\"><div class=\"sk-estimator sk-toggleable\"><input class=\"sk-toggleable__control sk-hidden--visually\" id=\"sk-estimator-id-4\" type=\"checkbox\" ><label for=\"sk-estimator-id-4\" class=\"sk-toggleable__label sk-toggleable__label-arrow\">LGBMClassifier</label><div class=\"sk-toggleable__content\"><pre>LGBMClassifier(class_weight=&#x27;balanced&#x27;, random_state=3802)</pre></div></div></div></div></div></div></div></div></div></div></div></div>"
      ],
      "text/plain": [
       "RandomizedSearchCV(cv=3,\n",
       "                   estimator=Pipeline(steps=[('tfidf',\n",
       "                                              TfidfVectorizer(preprocessor=<function <lambda> at 0x7bd8a138aac0>,\n",
       "                                                              stop_words=['i',\n",
       "                                                                          'me',\n",
       "                                                                          'my',\n",
       "                                                                          'myself',\n",
       "                                                                          'we',\n",
       "                                                                          'our',\n",
       "                                                                          'ours',\n",
       "                                                                          'ourselves',\n",
       "                                                                          'you',\n",
       "                                                                          \"you're\",\n",
       "                                                                          \"you've\",\n",
       "                                                                          \"you'll\",\n",
       "                                                                          \"you'd\",\n",
       "                                                                          'your',\n",
       "                                                                          'yours',\n",
       "                                                                          'yourself',\n",
       "                                                                          'yourselves',\n",
       "                                                                          'he',\n",
       "                                                                          'him',\n",
       "                                                                          'his',\n",
       "                                                                          'himself',\n",
       "                                                                          'she',\n",
       "                                                                          \"she's\",\n",
       "                                                                          'her',\n",
       "                                                                          'hers',\n",
       "                                                                          'herself',\n",
       "                                                                          'it',\n",
       "                                                                          \"it's\",\n",
       "                                                                          'its',\n",
       "                                                                          'itself', ...])),\n",
       "                                             ('lgbm',\n",
       "                                              LGBMClassifier(class_weight='balanced',\n",
       "                                                             random_state=3802))]),\n",
       "                   n_jobs=-1,\n",
       "                   param_distributions={'lgbm__learning_rate': [0.14, 0.2],\n",
       "                                        'lgbm__max_depth': [-1],\n",
       "                                        'lgbm__n_estimators': [700, 750]},\n",
       "                   random_state=3802, scoring='f1', verbose=1)"
      ]
     },
     "execution_count": 35,
     "metadata": {},
     "output_type": "execute_result"
    }
   ],
   "source": [
    "%%time\n",
    "\n",
    "lgbm_classifier = LGBMClassifier(class_weight='balanced',random_state=0xEDA)\n",
    "\n",
    "lgbm_params = {\n",
    "                'lgbm__learning_rate' : [0.14,0.2],\n",
    "                'lgbm__max_depth' : [-1],\n",
    "                'lgbm__n_estimators' : [700,750]\n",
    "              }\n",
    "pipeline1 = Pipeline([\n",
    "    ('tfidf', tf_idf),\n",
    "    ('lgbm', lgbm_classifier)\n",
    "])\n",
    "\n",
    "lgbm_model = RandomizedSearchCV(estimator=pipeline1, \n",
    "                                param_distributions=lgbm_params, \n",
    "                                random_state=0xEDA, \n",
    "                                n_jobs=-1,\n",
    "                                scoring='f1',\n",
    "                                cv=3,verbose=1)\n",
    "\n",
    "lgbm_model.fit(X_train, y_train)"
   ]
  },
  {
   "cell_type": "code",
   "execution_count": 36,
   "id": "96e451d7",
   "metadata": {
    "scrolled": true
   },
   "outputs": [
    {
     "name": "stdout",
     "output_type": "stream",
     "text": [
      "Лучший скор: 0.7681828784991347\n",
      "{'lgbm__n_estimators': 700, 'lgbm__max_depth': -1, 'lgbm__learning_rate': 0.2}\n"
     ]
    }
   ],
   "source": [
    "print(f'Лучший скор: {lgbm_model.best_score_}')\n",
    "print(lgbm_model.best_params_)"
   ]
  },
  {
   "cell_type": "code",
   "execution_count": 37,
   "id": "67c23c0b",
   "metadata": {},
   "outputs": [
    {
     "name": "stdout",
     "output_type": "stream",
     "text": [
      "Fitting 3 folds for each of 4 candidates, totalling 12 fits\n",
      "CPU times: user 18.7 s, sys: 655 ms, total: 19.4 s\n",
      "Wall time: 1min 4s\n"
     ]
    },
    {
     "data": {
      "text/html": [
       "<style>#sk-container-id-2 {color: black;}#sk-container-id-2 pre{padding: 0;}#sk-container-id-2 div.sk-toggleable {background-color: white;}#sk-container-id-2 label.sk-toggleable__label {cursor: pointer;display: block;width: 100%;margin-bottom: 0;padding: 0.3em;box-sizing: border-box;text-align: center;}#sk-container-id-2 label.sk-toggleable__label-arrow:before {content: \"▸\";float: left;margin-right: 0.25em;color: #696969;}#sk-container-id-2 label.sk-toggleable__label-arrow:hover:before {color: black;}#sk-container-id-2 div.sk-estimator:hover label.sk-toggleable__label-arrow:before {color: black;}#sk-container-id-2 div.sk-toggleable__content {max-height: 0;max-width: 0;overflow: hidden;text-align: left;background-color: #f0f8ff;}#sk-container-id-2 div.sk-toggleable__content pre {margin: 0.2em;color: black;border-radius: 0.25em;background-color: #f0f8ff;}#sk-container-id-2 input.sk-toggleable__control:checked~div.sk-toggleable__content {max-height: 200px;max-width: 100%;overflow: auto;}#sk-container-id-2 input.sk-toggleable__control:checked~label.sk-toggleable__label-arrow:before {content: \"▾\";}#sk-container-id-2 div.sk-estimator input.sk-toggleable__control:checked~label.sk-toggleable__label {background-color: #d4ebff;}#sk-container-id-2 div.sk-label input.sk-toggleable__control:checked~label.sk-toggleable__label {background-color: #d4ebff;}#sk-container-id-2 input.sk-hidden--visually {border: 0;clip: rect(1px 1px 1px 1px);clip: rect(1px, 1px, 1px, 1px);height: 1px;margin: -1px;overflow: hidden;padding: 0;position: absolute;width: 1px;}#sk-container-id-2 div.sk-estimator {font-family: monospace;background-color: #f0f8ff;border: 1px dotted black;border-radius: 0.25em;box-sizing: border-box;margin-bottom: 0.5em;}#sk-container-id-2 div.sk-estimator:hover {background-color: #d4ebff;}#sk-container-id-2 div.sk-parallel-item::after {content: \"\";width: 100%;border-bottom: 1px solid gray;flex-grow: 1;}#sk-container-id-2 div.sk-label:hover label.sk-toggleable__label {background-color: #d4ebff;}#sk-container-id-2 div.sk-serial::before {content: \"\";position: absolute;border-left: 1px solid gray;box-sizing: border-box;top: 0;bottom: 0;left: 50%;z-index: 0;}#sk-container-id-2 div.sk-serial {display: flex;flex-direction: column;align-items: center;background-color: white;padding-right: 0.2em;padding-left: 0.2em;position: relative;}#sk-container-id-2 div.sk-item {position: relative;z-index: 1;}#sk-container-id-2 div.sk-parallel {display: flex;align-items: stretch;justify-content: center;background-color: white;position: relative;}#sk-container-id-2 div.sk-item::before, #sk-container-id-2 div.sk-parallel-item::before {content: \"\";position: absolute;border-left: 1px solid gray;box-sizing: border-box;top: 0;bottom: 0;left: 50%;z-index: -1;}#sk-container-id-2 div.sk-parallel-item {display: flex;flex-direction: column;z-index: 1;position: relative;background-color: white;}#sk-container-id-2 div.sk-parallel-item:first-child::after {align-self: flex-end;width: 50%;}#sk-container-id-2 div.sk-parallel-item:last-child::after {align-self: flex-start;width: 50%;}#sk-container-id-2 div.sk-parallel-item:only-child::after {width: 0;}#sk-container-id-2 div.sk-dashed-wrapped {border: 1px dashed gray;margin: 0 0.4em 0.5em 0.4em;box-sizing: border-box;padding-bottom: 0.4em;background-color: white;}#sk-container-id-2 div.sk-label label {font-family: monospace;font-weight: bold;display: inline-block;line-height: 1.2em;}#sk-container-id-2 div.sk-label-container {text-align: center;}#sk-container-id-2 div.sk-container {/* jupyter's `normalize.less` sets `[hidden] { display: none; }` but bootstrap.min.css set `[hidden] { display: none !important; }` so we also need the `!important` here to be able to override the default hidden behavior on the sphinx rendered scikit-learn.org. See: https://github.com/scikit-learn/scikit-learn/issues/21755 */display: inline-block !important;position: relative;}#sk-container-id-2 div.sk-text-repr-fallback {display: none;}</style><div id=\"sk-container-id-2\" class=\"sk-top-container\"><div class=\"sk-text-repr-fallback\"><pre>RandomizedSearchCV(cv=3,\n",
       "                   estimator=Pipeline(steps=[(&#x27;tfidf&#x27;,\n",
       "                                              TfidfVectorizer(preprocessor=&lt;function &lt;lambda&gt; at 0x7bd8a138aac0&gt;,\n",
       "                                                              stop_words=[&#x27;i&#x27;,\n",
       "                                                                          &#x27;me&#x27;,\n",
       "                                                                          &#x27;my&#x27;,\n",
       "                                                                          &#x27;myself&#x27;,\n",
       "                                                                          &#x27;we&#x27;,\n",
       "                                                                          &#x27;our&#x27;,\n",
       "                                                                          &#x27;ours&#x27;,\n",
       "                                                                          &#x27;ourselves&#x27;,\n",
       "                                                                          &#x27;you&#x27;,\n",
       "                                                                          &quot;you&#x27;re&quot;,\n",
       "                                                                          &quot;you&#x27;ve&quot;,\n",
       "                                                                          &quot;you&#x27;ll&quot;,\n",
       "                                                                          &quot;you&#x27;d&quot;,\n",
       "                                                                          &#x27;your&#x27;,\n",
       "                                                                          &#x27;yours&#x27;,\n",
       "                                                                          &#x27;yourself&#x27;,\n",
       "                                                                          &#x27;yourselves&#x27;,\n",
       "                                                                          &#x27;he&#x27;,\n",
       "                                                                          &#x27;him&#x27;,\n",
       "                                                                          &#x27;his&#x27;,\n",
       "                                                                          &#x27;himself&#x27;,\n",
       "                                                                          &#x27;she&#x27;,\n",
       "                                                                          &quot;she&#x27;s&quot;,\n",
       "                                                                          &#x27;her&#x27;,\n",
       "                                                                          &#x27;hers&#x27;,\n",
       "                                                                          &#x27;herself&#x27;,\n",
       "                                                                          &#x27;it&#x27;,\n",
       "                                                                          &quot;it&#x27;s&quot;,\n",
       "                                                                          &#x27;its&#x27;,\n",
       "                                                                          &#x27;itself&#x27;, ...])),\n",
       "                                             (&#x27;rf&#x27;,\n",
       "                                              RandomForestClassifier(class_weight=&#x27;balanced&#x27;,\n",
       "                                                                     n_jobs=-1,\n",
       "                                                                     random_state=3802))]),\n",
       "                   n_jobs=-1,\n",
       "                   param_distributions={&#x27;rf__max_depth&#x27;: [16, 17],\n",
       "                                        &#x27;rf__n_estimators&#x27;: [70, 80]},\n",
       "                   random_state=3802, scoring=&#x27;f1&#x27;, verbose=1)</pre><b>In a Jupyter environment, please rerun this cell to show the HTML representation or trust the notebook. <br />On GitHub, the HTML representation is unable to render, please try loading this page with nbviewer.org.</b></div><div class=\"sk-container\" hidden><div class=\"sk-item sk-dashed-wrapped\"><div class=\"sk-label-container\"><div class=\"sk-label sk-toggleable\"><input class=\"sk-toggleable__control sk-hidden--visually\" id=\"sk-estimator-id-5\" type=\"checkbox\" ><label for=\"sk-estimator-id-5\" class=\"sk-toggleable__label sk-toggleable__label-arrow\">RandomizedSearchCV</label><div class=\"sk-toggleable__content\"><pre>RandomizedSearchCV(cv=3,\n",
       "                   estimator=Pipeline(steps=[(&#x27;tfidf&#x27;,\n",
       "                                              TfidfVectorizer(preprocessor=&lt;function &lt;lambda&gt; at 0x7bd8a138aac0&gt;,\n",
       "                                                              stop_words=[&#x27;i&#x27;,\n",
       "                                                                          &#x27;me&#x27;,\n",
       "                                                                          &#x27;my&#x27;,\n",
       "                                                                          &#x27;myself&#x27;,\n",
       "                                                                          &#x27;we&#x27;,\n",
       "                                                                          &#x27;our&#x27;,\n",
       "                                                                          &#x27;ours&#x27;,\n",
       "                                                                          &#x27;ourselves&#x27;,\n",
       "                                                                          &#x27;you&#x27;,\n",
       "                                                                          &quot;you&#x27;re&quot;,\n",
       "                                                                          &quot;you&#x27;ve&quot;,\n",
       "                                                                          &quot;you&#x27;ll&quot;,\n",
       "                                                                          &quot;you&#x27;d&quot;,\n",
       "                                                                          &#x27;your&#x27;,\n",
       "                                                                          &#x27;yours&#x27;,\n",
       "                                                                          &#x27;yourself&#x27;,\n",
       "                                                                          &#x27;yourselves&#x27;,\n",
       "                                                                          &#x27;he&#x27;,\n",
       "                                                                          &#x27;him&#x27;,\n",
       "                                                                          &#x27;his&#x27;,\n",
       "                                                                          &#x27;himself&#x27;,\n",
       "                                                                          &#x27;she&#x27;,\n",
       "                                                                          &quot;she&#x27;s&quot;,\n",
       "                                                                          &#x27;her&#x27;,\n",
       "                                                                          &#x27;hers&#x27;,\n",
       "                                                                          &#x27;herself&#x27;,\n",
       "                                                                          &#x27;it&#x27;,\n",
       "                                                                          &quot;it&#x27;s&quot;,\n",
       "                                                                          &#x27;its&#x27;,\n",
       "                                                                          &#x27;itself&#x27;, ...])),\n",
       "                                             (&#x27;rf&#x27;,\n",
       "                                              RandomForestClassifier(class_weight=&#x27;balanced&#x27;,\n",
       "                                                                     n_jobs=-1,\n",
       "                                                                     random_state=3802))]),\n",
       "                   n_jobs=-1,\n",
       "                   param_distributions={&#x27;rf__max_depth&#x27;: [16, 17],\n",
       "                                        &#x27;rf__n_estimators&#x27;: [70, 80]},\n",
       "                   random_state=3802, scoring=&#x27;f1&#x27;, verbose=1)</pre></div></div></div><div class=\"sk-parallel\"><div class=\"sk-parallel-item\"><div class=\"sk-item\"><div class=\"sk-label-container\"><div class=\"sk-label sk-toggleable\"><input class=\"sk-toggleable__control sk-hidden--visually\" id=\"sk-estimator-id-6\" type=\"checkbox\" ><label for=\"sk-estimator-id-6\" class=\"sk-toggleable__label sk-toggleable__label-arrow\">estimator: Pipeline</label><div class=\"sk-toggleable__content\"><pre>Pipeline(steps=[(&#x27;tfidf&#x27;,\n",
       "                 TfidfVectorizer(preprocessor=&lt;function &lt;lambda&gt; at 0x7bd8a138aac0&gt;,\n",
       "                                 stop_words=[&#x27;i&#x27;, &#x27;me&#x27;, &#x27;my&#x27;, &#x27;myself&#x27;, &#x27;we&#x27;,\n",
       "                                             &#x27;our&#x27;, &#x27;ours&#x27;, &#x27;ourselves&#x27;, &#x27;you&#x27;,\n",
       "                                             &quot;you&#x27;re&quot;, &quot;you&#x27;ve&quot;, &quot;you&#x27;ll&quot;,\n",
       "                                             &quot;you&#x27;d&quot;, &#x27;your&#x27;, &#x27;yours&#x27;,\n",
       "                                             &#x27;yourself&#x27;, &#x27;yourselves&#x27;, &#x27;he&#x27;,\n",
       "                                             &#x27;him&#x27;, &#x27;his&#x27;, &#x27;himself&#x27;, &#x27;she&#x27;,\n",
       "                                             &quot;she&#x27;s&quot;, &#x27;her&#x27;, &#x27;hers&#x27;, &#x27;herself&#x27;,\n",
       "                                             &#x27;it&#x27;, &quot;it&#x27;s&quot;, &#x27;its&#x27;, &#x27;itself&#x27;, ...])),\n",
       "                (&#x27;rf&#x27;,\n",
       "                 RandomForestClassifier(class_weight=&#x27;balanced&#x27;, n_jobs=-1,\n",
       "                                        random_state=3802))])</pre></div></div></div><div class=\"sk-serial\"><div class=\"sk-item\"><div class=\"sk-serial\"><div class=\"sk-item\"><div class=\"sk-estimator sk-toggleable\"><input class=\"sk-toggleable__control sk-hidden--visually\" id=\"sk-estimator-id-7\" type=\"checkbox\" ><label for=\"sk-estimator-id-7\" class=\"sk-toggleable__label sk-toggleable__label-arrow\">TfidfVectorizer</label><div class=\"sk-toggleable__content\"><pre>TfidfVectorizer(preprocessor=&lt;function &lt;lambda&gt; at 0x7bd8a138aac0&gt;,\n",
       "                stop_words=[&#x27;i&#x27;, &#x27;me&#x27;, &#x27;my&#x27;, &#x27;myself&#x27;, &#x27;we&#x27;, &#x27;our&#x27;, &#x27;ours&#x27;,\n",
       "                            &#x27;ourselves&#x27;, &#x27;you&#x27;, &quot;you&#x27;re&quot;, &quot;you&#x27;ve&quot;, &quot;you&#x27;ll&quot;,\n",
       "                            &quot;you&#x27;d&quot;, &#x27;your&#x27;, &#x27;yours&#x27;, &#x27;yourself&#x27;, &#x27;yourselves&#x27;,\n",
       "                            &#x27;he&#x27;, &#x27;him&#x27;, &#x27;his&#x27;, &#x27;himself&#x27;, &#x27;she&#x27;, &quot;she&#x27;s&quot;,\n",
       "                            &#x27;her&#x27;, &#x27;hers&#x27;, &#x27;herself&#x27;, &#x27;it&#x27;, &quot;it&#x27;s&quot;, &#x27;its&#x27;,\n",
       "                            &#x27;itself&#x27;, ...])</pre></div></div></div><div class=\"sk-item\"><div class=\"sk-estimator sk-toggleable\"><input class=\"sk-toggleable__control sk-hidden--visually\" id=\"sk-estimator-id-8\" type=\"checkbox\" ><label for=\"sk-estimator-id-8\" class=\"sk-toggleable__label sk-toggleable__label-arrow\">RandomForestClassifier</label><div class=\"sk-toggleable__content\"><pre>RandomForestClassifier(class_weight=&#x27;balanced&#x27;, n_jobs=-1, random_state=3802)</pre></div></div></div></div></div></div></div></div></div></div></div></div>"
      ],
      "text/plain": [
       "RandomizedSearchCV(cv=3,\n",
       "                   estimator=Pipeline(steps=[('tfidf',\n",
       "                                              TfidfVectorizer(preprocessor=<function <lambda> at 0x7bd8a138aac0>,\n",
       "                                                              stop_words=['i',\n",
       "                                                                          'me',\n",
       "                                                                          'my',\n",
       "                                                                          'myself',\n",
       "                                                                          'we',\n",
       "                                                                          'our',\n",
       "                                                                          'ours',\n",
       "                                                                          'ourselves',\n",
       "                                                                          'you',\n",
       "                                                                          \"you're\",\n",
       "                                                                          \"you've\",\n",
       "                                                                          \"you'll\",\n",
       "                                                                          \"you'd\",\n",
       "                                                                          'your',\n",
       "                                                                          'yours',\n",
       "                                                                          'yourself',\n",
       "                                                                          'yourselves',\n",
       "                                                                          'he',\n",
       "                                                                          'him',\n",
       "                                                                          'his',\n",
       "                                                                          'himself',\n",
       "                                                                          'she',\n",
       "                                                                          \"she's\",\n",
       "                                                                          'her',\n",
       "                                                                          'hers',\n",
       "                                                                          'herself',\n",
       "                                                                          'it',\n",
       "                                                                          \"it's\",\n",
       "                                                                          'its',\n",
       "                                                                          'itself', ...])),\n",
       "                                             ('rf',\n",
       "                                              RandomForestClassifier(class_weight='balanced',\n",
       "                                                                     n_jobs=-1,\n",
       "                                                                     random_state=3802))]),\n",
       "                   n_jobs=-1,\n",
       "                   param_distributions={'rf__max_depth': [16, 17],\n",
       "                                        'rf__n_estimators': [70, 80]},\n",
       "                   random_state=3802, scoring='f1', verbose=1)"
      ]
     },
     "execution_count": 37,
     "metadata": {},
     "output_type": "execute_result"
    }
   ],
   "source": [
    "%%time\n",
    "\n",
    "rf_classifier = RandomForestClassifier(class_weight='balanced',random_state=0xEDA, n_jobs=-1 )\n",
    "\n",
    "rf_params = {\n",
    "                'rf__n_estimators': [i for i in range(70, 82, 10)],\n",
    "                'rf__max_depth': [i for i in range(16, 18, 1)],\n",
    "            }\n",
    "\n",
    "pipeline2 = Pipeline([\n",
    "    ('tfidf', tf_idf),\n",
    "    ('rf', rf_classifier)\n",
    "])\n",
    "\n",
    "rf_model = RandomizedSearchCV(estimator=pipeline2, \n",
    "                              param_distributions=rf_params, \n",
    "                              random_state=0xEDA, \n",
    "                              n_jobs=-1,\n",
    "                              scoring='f1',\n",
    "                              cv=3,verbose=1)\n",
    "\n",
    "rf_model.fit(X_train, y_train)"
   ]
  },
  {
   "cell_type": "code",
   "execution_count": 38,
   "id": "83f60885",
   "metadata": {},
   "outputs": [
    {
     "name": "stdout",
     "output_type": "stream",
     "text": [
      "Лучший скор:0.3817305287972414\n",
      "{'rf__n_estimators': 80, 'rf__max_depth': 17}\n"
     ]
    }
   ],
   "source": [
    "print(f'Лучший скор:{rf_model.best_score_}')\n",
    "print(rf_model.best_params_)\n",
    "\n",
    "best_rf_model = rf_model.best_estimator_\n",
    "best_lgbm_model = lgbm_model.best_estimator_"
   ]
  },
  {
   "cell_type": "code",
   "execution_count": 39,
   "id": "b89afee0",
   "metadata": {},
   "outputs": [
    {
     "name": "stdout",
     "output_type": "stream",
     "text": [
      "LGBM 0.7729666471620831\n",
      "[LightGBM] [Info] Number of positive: 9710, number of negative: 85864\n",
      "[LightGBM] [Info] Auto-choosing col-wise multi-threading, the overhead of testing was 12.017889 seconds.\n",
      "You can set `force_col_wise=true` to remove the overhead.\n",
      "[LightGBM] [Info] Total Bins 427963\n",
      "[LightGBM] [Info] Number of data points in the train set: 95574, number of used features: 7985\n",
      "[LightGBM] [Info] [binary:BoostFromScore]: pavg=0.500000 -> initscore=-0.000000\n",
      "[LightGBM] [Info] Start training from score -0.000000\n",
      "[LightGBM] [Info] Number of positive: 9710, number of negative: 85865\n",
      "[LightGBM] [Info] Auto-choosing col-wise multi-threading, the overhead of testing was 10.460565 seconds.\n",
      "You can set `force_col_wise=true` to remove the overhead.\n",
      "[LightGBM] [Info] Total Bins 429192\n",
      "[LightGBM] [Info] Number of data points in the train set: 95575, number of used features: 8037\n",
      "[LightGBM] [Info] [binary:BoostFromScore]: pavg=0.500000 -> initscore=0.000000\n",
      "[LightGBM] [Info] Start training from score 0.000000\n",
      "[LightGBM] [Info] Number of positive: 9710, number of negative: 85864\n",
      "[LightGBM] [Info] Auto-choosing col-wise multi-threading, the overhead of testing was 10.753228 seconds.\n",
      "You can set `force_col_wise=true` to remove the overhead.\n",
      "[LightGBM] [Info] Total Bins 427963\n",
      "[LightGBM] [Info] Number of data points in the train set: 95574, number of used features: 7985\n",
      "[LightGBM] [Info] [binary:BoostFromScore]: pavg=0.500000 -> initscore=-0.000000\n",
      "[LightGBM] [Info] Start training from score -0.000000\n",
      "[LightGBM] [Info] Number of positive: 9710, number of negative: 85865\n",
      "[LightGBM] [Info] Auto-choosing row-wise multi-threading, the overhead of testing was 10.860983 seconds.\n",
      "You can set `force_row_wise=true` to remove the overhead.\n",
      "And if memory is not enough, you can set `force_col_wise=true`.\n",
      "[LightGBM] [Info] Total Bins 429192\n",
      "[LightGBM] [Info] Number of data points in the train set: 95575, number of used features: 8037\n",
      "[LightGBM] [Info] [binary:BoostFromScore]: pavg=0.500000 -> initscore=0.000000\n",
      "[LightGBM] [Info] Start training from score 0.000000\n",
      "[LightGBM] [Info] Number of positive: 9710, number of negative: 85864\n",
      "[LightGBM] [Info] Auto-choosing row-wise multi-threading, the overhead of testing was 11.170417 seconds.\n",
      "You can set `force_row_wise=true` to remove the overhead.\n",
      "And if memory is not enough, you can set `force_col_wise=true`.\n",
      "[LightGBM] [Info] Total Bins 427963\n",
      "[LightGBM] [Info] Number of data points in the train set: 95574, number of used features: 7985\n",
      "[LightGBM] [Info] [binary:BoostFromScore]: pavg=0.500000 -> initscore=-0.000000\n",
      "[LightGBM] [Info] Start training from score -0.000000\n",
      "[LightGBM] [Info] Number of positive: 9710, number of negative: 85865\n",
      "[LightGBM] [Info] Auto-choosing col-wise multi-threading, the overhead of testing was 6.364882 seconds.\n",
      "You can set `force_col_wise=true` to remove the overhead.\n",
      "[LightGBM] [Info] Total Bins 428869\n",
      "[LightGBM] [Info] Number of data points in the train set: 95575, number of used features: 7997\n",
      "[LightGBM] [Info] [binary:BoostFromScore]: pavg=0.500000 -> initscore=0.000000\n",
      "[LightGBM] [Info] Start training from score 0.000000\n",
      "[LightGBM] [Info] Number of positive: 9710, number of negative: 85864\n",
      "[LightGBM] [Info] Auto-choosing col-wise multi-threading, the overhead of testing was 11.432811 seconds.\n",
      "You can set `force_col_wise=true` to remove the overhead.\n",
      "[LightGBM] [Info] Total Bins 427963\n",
      "[LightGBM] [Info] Number of data points in the train set: 95574, number of used features: 7985\n",
      "[LightGBM] [Info] [binary:BoostFromScore]: pavg=0.500000 -> initscore=-0.000000\n",
      "[LightGBM] [Info] Start training from score -0.000000\n",
      "[LightGBM] [Info] Number of positive: 9710, number of negative: 85865\n",
      "[LightGBM] [Info] Auto-choosing row-wise multi-threading, the overhead of testing was 12.504976 seconds.\n",
      "You can set `force_row_wise=true` to remove the overhead.\n",
      "And if memory is not enough, you can set `force_col_wise=true`.\n",
      "[LightGBM] [Info] Total Bins 429192\n",
      "[LightGBM] [Info] Number of data points in the train set: 95575, number of used features: 8037\n",
      "[LightGBM] [Info] [binary:BoostFromScore]: pavg=0.500000 -> initscore=0.000000\n",
      "[LightGBM] [Info] Start training from score 0.000000\n",
      "[LightGBM] [Info] Number of positive: 9710, number of negative: 85865\n",
      "[LightGBM] [Info] Auto-choosing col-wise multi-threading, the overhead of testing was 10.460321 seconds.\n",
      "You can set `force_col_wise=true` to remove the overhead.\n",
      "[LightGBM] [Info] Total Bins 429192\n",
      "[LightGBM] [Info] Number of data points in the train set: 95575, number of used features: 8037\n",
      "[LightGBM] [Info] [binary:BoostFromScore]: pavg=0.500000 -> initscore=0.000000\n",
      "[LightGBM] [Info] Start training from score 0.000000\n",
      "[LightGBM] [Info] Number of positive: 9710, number of negative: 85865\n",
      "[LightGBM] [Info] Auto-choosing col-wise multi-threading, the overhead of testing was 12.935764 seconds.\n",
      "You can set `force_col_wise=true` to remove the overhead.\n",
      "[LightGBM] [Info] Total Bins 428869\n",
      "[LightGBM] [Info] Number of data points in the train set: 95575, number of used features: 7997\n",
      "[LightGBM] [Info] [binary:BoostFromScore]: pavg=0.500000 -> initscore=0.000000\n",
      "[LightGBM] [Info] Start training from score 0.000000\n",
      "[LightGBM] [Info] Number of positive: 9710, number of negative: 85865\n",
      "[LightGBM] [Info] Auto-choosing col-wise multi-threading, the overhead of testing was 11.532747 seconds.\n",
      "You can set `force_col_wise=true` to remove the overhead.\n",
      "[LightGBM] [Info] Total Bins 428869\n",
      "[LightGBM] [Info] Number of data points in the train set: 95575, number of used features: 7997\n",
      "[LightGBM] [Info] [binary:BoostFromScore]: pavg=0.500000 -> initscore=0.000000\n",
      "[LightGBM] [Info] Start training from score 0.000000\n",
      "[LightGBM] [Info] Number of positive: 9710, number of negative: 85865\n",
      "[LightGBM] [Info] Auto-choosing row-wise multi-threading, the overhead of testing was 10.460790 seconds.\n",
      "You can set `force_row_wise=true` to remove the overhead.\n",
      "And if memory is not enough, you can set `force_col_wise=true`.\n",
      "[LightGBM] [Info] Total Bins 428869\n",
      "[LightGBM] [Info] Number of data points in the train set: 95575, number of used features: 7997\n",
      "[LightGBM] [Info] [binary:BoostFromScore]: pavg=0.500000 -> initscore=0.000000\n",
      "[LightGBM] [Info] Start training from score 0.000000\n"
     ]
    }
   ],
   "source": [
    "#предсказывание по лучшим параметрам LGBM\n",
    "rf_predict = best_rf_model.predict(X_test)\n",
    "lgbm_predict = best_lgbm_model.predict(X_test)\n",
    "\n",
    "print('LGBM',f1_score(y_test, lgbm_predict))\n"
   ]
  },
  {
   "cell_type": "markdown",
   "id": "d1a15285",
   "metadata": {},
   "source": [
    "## Выводы"
   ]
  },
  {
   "cell_type": "markdown",
   "id": "19ef4731",
   "metadata": {},
   "source": [
    "<div style='background-color: #f2f2f2; padding: 10px; border: 3px solid #ccc; border-radius: 10px;'>\n",
    "    <p><strong>Вывод:</strong>   <br>\n",
    "  <br>\n",
    "Были построены две модели - Random Forest и LGBM, для них подобраны гиперпараметры на кросс валидации со взвешенным таргетом. После валидации была отобрана модель LGBM(0.77), так как ее качество почти в 2 раза превосходит Random Forest(0.38) и оно входит в допустимую погрешность заданную в задании. На тесте переобучения выявлено не было, качество модели LGBM(0.77) так же удовлетворяет погрешности.\n",
    "   \n",
    "</p>\n",
    "</div>"
   ]
  }
 ],
 "metadata": {
  "ExecuteTimeLog": [
   {
    "duration": 2813,
    "start_time": "2023-06-09T16:11:59.176Z"
   },
   {
    "duration": 825,
    "start_time": "2023-06-09T16:12:24.484Z"
   },
   {
    "duration": 823,
    "start_time": "2023-06-09T16:13:47.594Z"
   },
   {
    "duration": 917,
    "start_time": "2023-06-09T16:14:58.217Z"
   },
   {
    "duration": 54,
    "start_time": "2023-06-09T17:49:12.792Z"
   },
   {
    "duration": 2797,
    "start_time": "2023-06-09T17:49:16.071Z"
   },
   {
    "duration": 9634,
    "start_time": "2023-06-09T17:52:11.510Z"
   },
   {
    "duration": 2399,
    "start_time": "2023-06-09T17:52:21.147Z"
   },
   {
    "duration": 55,
    "start_time": "2023-06-09T17:52:23.548Z"
   },
   {
    "duration": 14,
    "start_time": "2023-06-09T17:52:23.606Z"
   },
   {
    "duration": 330,
    "start_time": "2023-06-09T17:52:23.622Z"
   },
   {
    "duration": 10,
    "start_time": "2023-06-09T17:52:23.954Z"
   },
   {
    "duration": 323,
    "start_time": "2023-06-09T17:52:23.966Z"
   },
   {
    "duration": 4,
    "start_time": "2023-06-09T17:55:32.692Z"
   }
  ],
  "kernelspec": {
   "display_name": "Python 3 (ipykernel)",
   "language": "python",
   "name": "python3"
  },
  "language_info": {
   "codemirror_mode": {
    "name": "ipython",
    "version": 3
   },
   "file_extension": ".py",
   "mimetype": "text/x-python",
   "name": "python",
   "nbconvert_exporter": "python",
   "pygments_lexer": "ipython3",
   "version": "3.11.5"
  },
  "toc": {
   "base_numbering": 1,
   "nav_menu": {},
   "number_sections": true,
   "sideBar": true,
   "skip_h1_title": false,
   "title_cell": "Table of Contents",
   "title_sidebar": "Contents",
   "toc_cell": false,
   "toc_position": {},
   "toc_section_display": true,
   "toc_window_display": false
  }
 },
 "nbformat": 4,
 "nbformat_minor": 5
}
